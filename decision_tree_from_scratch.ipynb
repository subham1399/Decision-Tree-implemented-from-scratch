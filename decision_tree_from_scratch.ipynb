{
  "nbformat": 4,
  "nbformat_minor": 0,
  "metadata": {
    "kernelspec": {
      "display_name": "Python 3",
      "language": "python",
      "name": "python3"
    },
    "language_info": {
      "name": "python",
      "version": "3.6.6",
      "mimetype": "text/x-python",
      "codemirror_mode": {
        "name": "ipython",
        "version": 3
      },
      "pygments_lexer": "ipython3",
      "nbconvert_exporter": "python",
      "file_extension": ".py"
    },
    "colab": {
      "name": "decision-tree-from-scratch.ipynb",
      "provenance": []
    }
  },
  "cells": [
    {
      "cell_type": "code",
      "metadata": {
        "trusted": true,
        "_uuid": "876a3691611b3f972c455f348c1e2ba60013aaf3",
        "id": "EcpArAqJjpot",
        "colab_type": "code",
        "outputId": "b05f4de9-75ff-436e-d9f1-26d4f620cf16",
        "colab": {
          "base_uri": "https://localhost:8080/",
          "height": 17
        }
      },
      "source": [
        "#importing respective libraries and setting up the enviornment\n",
        "\n",
        "'''data working libraries'''\n",
        "import pandas as pd\n",
        "import numpy as np\n",
        "from sklearn.datasets import load_iris\n",
        "\n",
        "'''data visualisation libraries'''\n",
        "import matplotlib.pyplot as plt\n",
        "import seaborn as sns\n",
        "import plotly as py\n",
        "py.offline.init_notebook_mode(connected=True)\n",
        "%matplotlib inline"
      ],
      "execution_count": 0,
      "outputs": [
        {
          "output_type": "display_data",
          "data": {
            "text/html": [
              "        <script type=\"text/javascript\">\n",
              "        window.PlotlyConfig = {MathJaxConfig: 'local'};\n",
              "        if (window.MathJax) {MathJax.Hub.Config({SVG: {font: \"STIX-Web\"}});}\n",
              "        if (typeof require !== 'undefined') {\n",
              "        require.undef(\"plotly\");\n",
              "        requirejs.config({\n",
              "            paths: {\n",
              "                'plotly': ['https://cdn.plot.ly/plotly-latest.min']\n",
              "            }\n",
              "        });\n",
              "        require(['plotly'], function(Plotly) {\n",
              "            window._Plotly = Plotly;\n",
              "        });\n",
              "        }\n",
              "        </script>\n",
              "        "
            ]
          },
          "metadata": {
            "tags": []
          }
        }
      ]
    },
    {
      "cell_type": "code",
      "metadata": {
        "trusted": true,
        "_uuid": "85473c7a565d835157bd98ce81cd7cbf4b04e932",
        "id": "fROPSGZpjpo0",
        "colab_type": "code",
        "colab": {}
      },
      "source": [
        "#loading the data\n",
        "iris = load_iris()"
      ],
      "execution_count": 0,
      "outputs": []
    },
    {
      "cell_type": "code",
      "metadata": {
        "trusted": true,
        "_uuid": "d8995afef132bc1492b82b70e1f2a76b55cd9013",
        "id": "KsnQReKejpo4",
        "colab_type": "code",
        "colab": {}
      },
      "source": [
        "#setting up our x and y variables correspondingly\n",
        "x=iris.data\n",
        "y=iris.target"
      ],
      "execution_count": 0,
      "outputs": []
    },
    {
      "cell_type": "code",
      "metadata": {
        "trusted": true,
        "_uuid": "72c4410502f331e3fec60aabb5a533704b63351a",
        "id": "eQpfCbbRjpo8",
        "colab_type": "code",
        "colab": {}
      },
      "source": [
        "#concatinating the x and y np arrays into a single np array so that can be \n",
        "#converted to a dataframe later on\n",
        "data=np.c_[x,y]"
      ],
      "execution_count": 0,
      "outputs": []
    },
    {
      "cell_type": "code",
      "metadata": {
        "trusted": true,
        "_uuid": "aaa2140d147285000ad8600cf385aff397db6595",
        "id": "wOC8c7JtjppA",
        "colab_type": "code",
        "colab": {}
      },
      "source": [
        "#making a header list for corresponding column indices in DF\n",
        "cols=['sepal_length','sepal_width','petal_length','petal_width']\n",
        "header=cols+['species']\n",
        "#converting into a dataframe for visualisation purposes\n",
        "iris_df=pd.DataFrame(data=data,columns=header)"
      ],
      "execution_count": 0,
      "outputs": []
    },
    {
      "cell_type": "code",
      "metadata": {
        "trusted": true,
        "_uuid": "0f65297bbad118a1410d51b2f32c634b5331217d",
        "id": "v7K2zB5qjppE",
        "colab_type": "code",
        "colab": {}
      },
      "source": [
        "iris_df.head()\n",
        "#upadating values 0,1,2 in species column with real names\n",
        "iris_df.species.replace(0.0,'iris-sesota',inplace=True)\n",
        "iris_df.species.replace(1.0,'iris-versicolor',inplace=True)\n",
        "iris_df.species.replace(2.0,'iris-virginica',inplace=True)"
      ],
      "execution_count": 0,
      "outputs": []
    },
    {
      "cell_type": "markdown",
      "metadata": {
        "_uuid": "dc80e896d507254e029d3dde5445efc2603280a9",
        "id": "C1lPBVwYjppH",
        "colab_type": "text"
      },
      "source": [
        "# Analysing The Data"
      ]
    },
    {
      "cell_type": "code",
      "metadata": {
        "trusted": true,
        "_uuid": "6229228a51f205a02f720a55881bdf2d24ddfbb4",
        "id": "Np0kzQnCjppI",
        "colab_type": "code",
        "outputId": "d1723088-3162-44c4-aa2e-63e691a97da5",
        "colab": {
          "base_uri": "https://localhost:8080/",
          "height": 33
        }
      },
      "source": [
        "'''our dataset has 150 datapoints(entries) and 4 featues'''\n",
        "iris_df.shape"
      ],
      "execution_count": 0,
      "outputs": [
        {
          "output_type": "execute_result",
          "data": {
            "text/plain": [
              "(150, 5)"
            ]
          },
          "metadata": {
            "tags": []
          },
          "execution_count": 7
        }
      ]
    },
    {
      "cell_type": "markdown",
      "metadata": {
        "_uuid": "24225d8a53385be5f14b7a11222c90e2fe7e1a36",
        "id": "R04nIvIkjppO",
        "colab_type": "text"
      },
      "source": [
        "#  Relation Between Sepal Length And Sepal Width"
      ]
    },
    {
      "cell_type": "code",
      "metadata": {
        "trusted": true,
        "_uuid": "a60be62a9958593495cec1ccc5fca181160f0d56",
        "id": "fLlfmMd3jppP",
        "colab_type": "code",
        "outputId": "303dc05e-72d5-4b8e-c652-a3db1a958e0b",
        "colab": {
          "base_uri": "https://localhost:8080/",
          "height": 542
        }
      },
      "source": [
        "#import graph_obj as go\n",
        "import plotly.graph_objs as go\n",
        "\n",
        "#split the datasets according to the respective species so that\n",
        "#easier while plotting scatter plots\n",
        "df1=iris_df.iloc[:50,:]\n",
        "df2=iris_df.iloc[50:100,:]\n",
        "df3=iris_df.iloc[100:150,:]\n",
        "#creating traces\n",
        "trace1 = go.Scatter(\n",
        "    #x=x-axis\n",
        "    x=df1.sepal_length,\n",
        "    #y=y-axis\n",
        "    y=df1.sepal_width,\n",
        "    #mode defines the type of plot eg-lines,markers,line+markers\n",
        "    mode='markers',\n",
        "    #name pf the plots\n",
        "    name='iris-setosa',\n",
        "    #markers->color and alpha of the respective trace\n",
        "    marker=dict(color = 'rgba(255, 128, 2, 0.8)'),\n",
        "    #the hover text\n",
        "    text=df1.species)\n",
        "trace2 = go.Scatter(\n",
        "    x=df2.sepal_length,\n",
        "    y=df2.sepal_width,\n",
        "    mode='markers',\n",
        "    name='iris-versicolor',\n",
        "    marker=dict(color = 'rgba(0, 255, 200, 0.8)'),\n",
        "    text=df2.species)\n",
        "trace3 = go.Scatter(\n",
        "    x=df3.sepal_length,\n",
        "    y=df3.sepal_width,\n",
        "    mode='markers',\n",
        "    name='iris-virginica',\n",
        "    marker=dict(color = 'rgba(255, 128, 255, 0.8)'),\n",
        "    text=df3.species)\n",
        "#a list of all the traces\n",
        "data_list=[trace1,trace2,trace3]\n",
        "#it is a dictionary containing info about title,axis etc\n",
        "layout=dict(title='Sepal length and Sepal Width of Species',\n",
        "               xaxis=dict(title='Sepal Length',ticklen=5,zeroline=False),\n",
        "               yaxis=dict(title='Sepal Width',ticklen=5,zeroline=False)\n",
        "            )\n",
        "#fig object includes data and layout\n",
        "fig=dict(data=data_list,layout=layout)\n",
        "#plotting the fig\n",
        "py.offline.iplot(fig)"
      ],
      "execution_count": 0,
      "outputs": [
        {
          "output_type": "display_data",
          "data": {
            "text/html": [
              "<div>\n",
              "        \n",
              "        \n",
              "            <div id=\"9b5e06c2-d169-4be0-be44-94198ea4449c\" class=\"plotly-graph-div\" style=\"height:525px; width:100%;\"></div>\n",
              "            <script type=\"text/javascript\">\n",
              "                require([\"plotly\"], function(Plotly) {\n",
              "                    window.PLOTLYENV=window.PLOTLYENV || {};\n",
              "                    \n",
              "                if (document.getElementById(\"9b5e06c2-d169-4be0-be44-94198ea4449c\")) {\n",
              "                    Plotly.newPlot(\n",
              "                        '9b5e06c2-d169-4be0-be44-94198ea4449c',\n",
              "                        [{\"marker\": {\"color\": \"rgba(255, 128, 2, 0.8)\"}, \"mode\": \"markers\", \"name\": \"iris-setosa\", \"text\": [\"iris-sesota\", \"iris-sesota\", \"iris-sesota\", \"iris-sesota\", \"iris-sesota\", \"iris-sesota\", \"iris-sesota\", \"iris-sesota\", \"iris-sesota\", \"iris-sesota\", \"iris-sesota\", \"iris-sesota\", \"iris-sesota\", \"iris-sesota\", \"iris-sesota\", \"iris-sesota\", \"iris-sesota\", \"iris-sesota\", \"iris-sesota\", \"iris-sesota\", \"iris-sesota\", \"iris-sesota\", \"iris-sesota\", \"iris-sesota\", \"iris-sesota\", \"iris-sesota\", \"iris-sesota\", \"iris-sesota\", \"iris-sesota\", \"iris-sesota\", \"iris-sesota\", \"iris-sesota\", \"iris-sesota\", \"iris-sesota\", \"iris-sesota\", \"iris-sesota\", \"iris-sesota\", \"iris-sesota\", \"iris-sesota\", \"iris-sesota\", \"iris-sesota\", \"iris-sesota\", \"iris-sesota\", \"iris-sesota\", \"iris-sesota\", \"iris-sesota\", \"iris-sesota\", \"iris-sesota\", \"iris-sesota\", \"iris-sesota\"], \"type\": \"scatter\", \"x\": [5.1, 4.9, 4.7, 4.6, 5.0, 5.4, 4.6, 5.0, 4.4, 4.9, 5.4, 4.8, 4.8, 4.3, 5.8, 5.7, 5.4, 5.1, 5.7, 5.1, 5.4, 5.1, 4.6, 5.1, 4.8, 5.0, 5.0, 5.2, 5.2, 4.7, 4.8, 5.4, 5.2, 5.5, 4.9, 5.0, 5.5, 4.9, 4.4, 5.1, 5.0, 4.5, 4.4, 5.0, 5.1, 4.8, 5.1, 4.6, 5.3, 5.0], \"y\": [3.5, 3.0, 3.2, 3.1, 3.6, 3.9, 3.4, 3.4, 2.9, 3.1, 3.7, 3.4, 3.0, 3.0, 4.0, 4.4, 3.9, 3.5, 3.8, 3.8, 3.4, 3.7, 3.6, 3.3, 3.4, 3.0, 3.4, 3.5, 3.4, 3.2, 3.1, 3.4, 4.1, 4.2, 3.1, 3.2, 3.5, 3.6, 3.0, 3.4, 3.5, 2.3, 3.2, 3.5, 3.8, 3.0, 3.8, 3.2, 3.7, 3.3]}, {\"marker\": {\"color\": \"rgba(0, 255, 200, 0.8)\"}, \"mode\": \"markers\", \"name\": \"iris-versicolor\", \"text\": [\"iris-versicolor\", \"iris-versicolor\", \"iris-versicolor\", \"iris-versicolor\", \"iris-versicolor\", \"iris-versicolor\", \"iris-versicolor\", \"iris-versicolor\", \"iris-versicolor\", \"iris-versicolor\", \"iris-versicolor\", \"iris-versicolor\", \"iris-versicolor\", \"iris-versicolor\", \"iris-versicolor\", \"iris-versicolor\", \"iris-versicolor\", \"iris-versicolor\", \"iris-versicolor\", \"iris-versicolor\", \"iris-versicolor\", \"iris-versicolor\", \"iris-versicolor\", \"iris-versicolor\", \"iris-versicolor\", \"iris-versicolor\", \"iris-versicolor\", \"iris-versicolor\", \"iris-versicolor\", \"iris-versicolor\", \"iris-versicolor\", \"iris-versicolor\", \"iris-versicolor\", \"iris-versicolor\", \"iris-versicolor\", \"iris-versicolor\", \"iris-versicolor\", \"iris-versicolor\", \"iris-versicolor\", \"iris-versicolor\", \"iris-versicolor\", \"iris-versicolor\", \"iris-versicolor\", \"iris-versicolor\", \"iris-versicolor\", \"iris-versicolor\", \"iris-versicolor\", \"iris-versicolor\", \"iris-versicolor\", \"iris-versicolor\"], \"type\": \"scatter\", \"x\": [7.0, 6.4, 6.9, 5.5, 6.5, 5.7, 6.3, 4.9, 6.6, 5.2, 5.0, 5.9, 6.0, 6.1, 5.6, 6.7, 5.6, 5.8, 6.2, 5.6, 5.9, 6.1, 6.3, 6.1, 6.4, 6.6, 6.8, 6.7, 6.0, 5.7, 5.5, 5.5, 5.8, 6.0, 5.4, 6.0, 6.7, 6.3, 5.6, 5.5, 5.5, 6.1, 5.8, 5.0, 5.6, 5.7, 5.7, 6.2, 5.1, 5.7], \"y\": [3.2, 3.2, 3.1, 2.3, 2.8, 2.8, 3.3, 2.4, 2.9, 2.7, 2.0, 3.0, 2.2, 2.9, 2.9, 3.1, 3.0, 2.7, 2.2, 2.5, 3.2, 2.8, 2.5, 2.8, 2.9, 3.0, 2.8, 3.0, 2.9, 2.6, 2.4, 2.4, 2.7, 2.7, 3.0, 3.4, 3.1, 2.3, 3.0, 2.5, 2.6, 3.0, 2.6, 2.3, 2.7, 3.0, 2.9, 2.9, 2.5, 2.8]}, {\"marker\": {\"color\": \"rgba(255, 128, 255, 0.8)\"}, \"mode\": \"markers\", \"name\": \"iris-virginica\", \"text\": [\"iris-virginica\", \"iris-virginica\", \"iris-virginica\", \"iris-virginica\", \"iris-virginica\", \"iris-virginica\", \"iris-virginica\", \"iris-virginica\", \"iris-virginica\", \"iris-virginica\", \"iris-virginica\", \"iris-virginica\", \"iris-virginica\", \"iris-virginica\", \"iris-virginica\", \"iris-virginica\", \"iris-virginica\", \"iris-virginica\", \"iris-virginica\", \"iris-virginica\", \"iris-virginica\", \"iris-virginica\", \"iris-virginica\", \"iris-virginica\", \"iris-virginica\", \"iris-virginica\", \"iris-virginica\", \"iris-virginica\", \"iris-virginica\", \"iris-virginica\", \"iris-virginica\", \"iris-virginica\", \"iris-virginica\", \"iris-virginica\", \"iris-virginica\", \"iris-virginica\", \"iris-virginica\", \"iris-virginica\", \"iris-virginica\", \"iris-virginica\", \"iris-virginica\", \"iris-virginica\", \"iris-virginica\", \"iris-virginica\", \"iris-virginica\", \"iris-virginica\", \"iris-virginica\", \"iris-virginica\", \"iris-virginica\", \"iris-virginica\"], \"type\": \"scatter\", \"x\": [6.3, 5.8, 7.1, 6.3, 6.5, 7.6, 4.9, 7.3, 6.7, 7.2, 6.5, 6.4, 6.8, 5.7, 5.8, 6.4, 6.5, 7.7, 7.7, 6.0, 6.9, 5.6, 7.7, 6.3, 6.7, 7.2, 6.2, 6.1, 6.4, 7.2, 7.4, 7.9, 6.4, 6.3, 6.1, 7.7, 6.3, 6.4, 6.0, 6.9, 6.7, 6.9, 5.8, 6.8, 6.7, 6.7, 6.3, 6.5, 6.2, 5.9], \"y\": [3.3, 2.7, 3.0, 2.9, 3.0, 3.0, 2.5, 2.9, 2.5, 3.6, 3.2, 2.7, 3.0, 2.5, 2.8, 3.2, 3.0, 3.8, 2.6, 2.2, 3.2, 2.8, 2.8, 2.7, 3.3, 3.2, 2.8, 3.0, 2.8, 3.0, 2.8, 3.8, 2.8, 2.8, 2.6, 3.0, 3.4, 3.1, 3.0, 3.1, 3.1, 3.1, 2.7, 3.2, 3.3, 3.0, 2.5, 3.0, 3.4, 3.0]}],\n",
              "                        {\"template\": {\"data\": {\"bar\": [{\"error_x\": {\"color\": \"#2a3f5f\"}, \"error_y\": {\"color\": \"#2a3f5f\"}, \"marker\": {\"line\": {\"color\": \"#E5ECF6\", \"width\": 0.5}}, \"type\": \"bar\"}], \"barpolar\": [{\"marker\": {\"line\": {\"color\": \"#E5ECF6\", \"width\": 0.5}}, \"type\": \"barpolar\"}], \"carpet\": [{\"aaxis\": {\"endlinecolor\": \"#2a3f5f\", \"gridcolor\": \"white\", \"linecolor\": \"white\", \"minorgridcolor\": \"white\", \"startlinecolor\": \"#2a3f5f\"}, \"baxis\": {\"endlinecolor\": \"#2a3f5f\", \"gridcolor\": \"white\", \"linecolor\": \"white\", \"minorgridcolor\": \"white\", \"startlinecolor\": \"#2a3f5f\"}, \"type\": \"carpet\"}], \"choropleth\": [{\"colorbar\": {\"outlinewidth\": 0, \"ticks\": \"\"}, \"type\": \"choropleth\"}], \"contour\": [{\"colorbar\": {\"outlinewidth\": 0, \"ticks\": \"\"}, \"colorscale\": [[0.0, \"#0d0887\"], [0.1111111111111111, \"#46039f\"], [0.2222222222222222, \"#7201a8\"], [0.3333333333333333, \"#9c179e\"], [0.4444444444444444, \"#bd3786\"], [0.5555555555555556, \"#d8576b\"], [0.6666666666666666, \"#ed7953\"], [0.7777777777777778, \"#fb9f3a\"], [0.8888888888888888, \"#fdca26\"], [1.0, \"#f0f921\"]], \"type\": \"contour\"}], \"contourcarpet\": [{\"colorbar\": {\"outlinewidth\": 0, \"ticks\": \"\"}, \"type\": \"contourcarpet\"}], \"heatmap\": [{\"colorbar\": {\"outlinewidth\": 0, \"ticks\": \"\"}, \"colorscale\": [[0.0, \"#0d0887\"], [0.1111111111111111, \"#46039f\"], [0.2222222222222222, \"#7201a8\"], [0.3333333333333333, \"#9c179e\"], [0.4444444444444444, \"#bd3786\"], [0.5555555555555556, \"#d8576b\"], [0.6666666666666666, \"#ed7953\"], [0.7777777777777778, \"#fb9f3a\"], [0.8888888888888888, \"#fdca26\"], [1.0, \"#f0f921\"]], \"type\": \"heatmap\"}], \"heatmapgl\": [{\"colorbar\": {\"outlinewidth\": 0, \"ticks\": \"\"}, \"colorscale\": [[0.0, \"#0d0887\"], [0.1111111111111111, \"#46039f\"], [0.2222222222222222, \"#7201a8\"], [0.3333333333333333, \"#9c179e\"], [0.4444444444444444, \"#bd3786\"], [0.5555555555555556, \"#d8576b\"], [0.6666666666666666, \"#ed7953\"], [0.7777777777777778, \"#fb9f3a\"], [0.8888888888888888, \"#fdca26\"], [1.0, \"#f0f921\"]], \"type\": \"heatmapgl\"}], \"histogram\": [{\"marker\": {\"colorbar\": {\"outlinewidth\": 0, \"ticks\": \"\"}}, \"type\": \"histogram\"}], \"histogram2d\": [{\"colorbar\": {\"outlinewidth\": 0, \"ticks\": \"\"}, \"colorscale\": [[0.0, \"#0d0887\"], [0.1111111111111111, \"#46039f\"], [0.2222222222222222, \"#7201a8\"], [0.3333333333333333, \"#9c179e\"], [0.4444444444444444, \"#bd3786\"], [0.5555555555555556, \"#d8576b\"], [0.6666666666666666, \"#ed7953\"], [0.7777777777777778, \"#fb9f3a\"], [0.8888888888888888, \"#fdca26\"], [1.0, \"#f0f921\"]], \"type\": \"histogram2d\"}], \"histogram2dcontour\": [{\"colorbar\": {\"outlinewidth\": 0, \"ticks\": \"\"}, \"colorscale\": [[0.0, \"#0d0887\"], [0.1111111111111111, \"#46039f\"], [0.2222222222222222, \"#7201a8\"], [0.3333333333333333, \"#9c179e\"], [0.4444444444444444, \"#bd3786\"], [0.5555555555555556, \"#d8576b\"], [0.6666666666666666, \"#ed7953\"], [0.7777777777777778, \"#fb9f3a\"], [0.8888888888888888, \"#fdca26\"], [1.0, \"#f0f921\"]], \"type\": \"histogram2dcontour\"}], \"mesh3d\": [{\"colorbar\": {\"outlinewidth\": 0, \"ticks\": \"\"}, \"type\": \"mesh3d\"}], \"parcoords\": [{\"line\": {\"colorbar\": {\"outlinewidth\": 0, \"ticks\": \"\"}}, \"type\": \"parcoords\"}], \"scatter\": [{\"marker\": {\"colorbar\": {\"outlinewidth\": 0, \"ticks\": \"\"}}, \"type\": \"scatter\"}], \"scatter3d\": [{\"line\": {\"colorbar\": {\"outlinewidth\": 0, \"ticks\": \"\"}}, \"marker\": {\"colorbar\": {\"outlinewidth\": 0, \"ticks\": \"\"}}, \"type\": \"scatter3d\"}], \"scattercarpet\": [{\"marker\": {\"colorbar\": {\"outlinewidth\": 0, \"ticks\": \"\"}}, \"type\": \"scattercarpet\"}], \"scattergeo\": [{\"marker\": {\"colorbar\": {\"outlinewidth\": 0, \"ticks\": \"\"}}, \"type\": \"scattergeo\"}], \"scattergl\": [{\"marker\": {\"colorbar\": {\"outlinewidth\": 0, \"ticks\": \"\"}}, \"type\": \"scattergl\"}], \"scattermapbox\": [{\"marker\": {\"colorbar\": {\"outlinewidth\": 0, \"ticks\": \"\"}}, \"type\": \"scattermapbox\"}], \"scatterpolar\": [{\"marker\": {\"colorbar\": {\"outlinewidth\": 0, \"ticks\": \"\"}}, \"type\": \"scatterpolar\"}], \"scatterpolargl\": [{\"marker\": {\"colorbar\": {\"outlinewidth\": 0, \"ticks\": \"\"}}, \"type\": \"scatterpolargl\"}], \"scatterternary\": [{\"marker\": {\"colorbar\": {\"outlinewidth\": 0, \"ticks\": \"\"}}, \"type\": \"scatterternary\"}], \"surface\": [{\"colorbar\": {\"outlinewidth\": 0, \"ticks\": \"\"}, \"colorscale\": [[0.0, \"#0d0887\"], [0.1111111111111111, \"#46039f\"], [0.2222222222222222, \"#7201a8\"], [0.3333333333333333, \"#9c179e\"], [0.4444444444444444, \"#bd3786\"], [0.5555555555555556, \"#d8576b\"], [0.6666666666666666, \"#ed7953\"], [0.7777777777777778, \"#fb9f3a\"], [0.8888888888888888, \"#fdca26\"], [1.0, \"#f0f921\"]], \"type\": \"surface\"}], \"table\": [{\"cells\": {\"fill\": {\"color\": \"#EBF0F8\"}, \"line\": {\"color\": \"white\"}}, \"header\": {\"fill\": {\"color\": \"#C8D4E3\"}, \"line\": {\"color\": \"white\"}}, \"type\": \"table\"}]}, \"layout\": {\"annotationdefaults\": {\"arrowcolor\": \"#2a3f5f\", \"arrowhead\": 0, \"arrowwidth\": 1}, \"colorscale\": {\"diverging\": [[0, \"#8e0152\"], [0.1, \"#c51b7d\"], [0.2, \"#de77ae\"], [0.3, \"#f1b6da\"], [0.4, \"#fde0ef\"], [0.5, \"#f7f7f7\"], [0.6, \"#e6f5d0\"], [0.7, \"#b8e186\"], [0.8, \"#7fbc41\"], [0.9, \"#4d9221\"], [1, \"#276419\"]], \"sequential\": [[0.0, \"#0d0887\"], [0.1111111111111111, \"#46039f\"], [0.2222222222222222, \"#7201a8\"], [0.3333333333333333, \"#9c179e\"], [0.4444444444444444, \"#bd3786\"], [0.5555555555555556, \"#d8576b\"], [0.6666666666666666, \"#ed7953\"], [0.7777777777777778, \"#fb9f3a\"], [0.8888888888888888, \"#fdca26\"], [1.0, \"#f0f921\"]], \"sequentialminus\": [[0.0, \"#0d0887\"], [0.1111111111111111, \"#46039f\"], [0.2222222222222222, \"#7201a8\"], [0.3333333333333333, \"#9c179e\"], [0.4444444444444444, \"#bd3786\"], [0.5555555555555556, \"#d8576b\"], [0.6666666666666666, \"#ed7953\"], [0.7777777777777778, \"#fb9f3a\"], [0.8888888888888888, \"#fdca26\"], [1.0, \"#f0f921\"]]}, \"colorway\": [\"#636efa\", \"#EF553B\", \"#00cc96\", \"#ab63fa\", \"#FFA15A\", \"#19d3f3\", \"#FF6692\", \"#B6E880\", \"#FF97FF\", \"#FECB52\"], \"font\": {\"color\": \"#2a3f5f\"}, \"geo\": {\"bgcolor\": \"white\", \"lakecolor\": \"white\", \"landcolor\": \"#E5ECF6\", \"showlakes\": true, \"showland\": true, \"subunitcolor\": \"white\"}, \"hoverlabel\": {\"align\": \"left\"}, \"hovermode\": \"closest\", \"mapbox\": {\"style\": \"light\"}, \"paper_bgcolor\": \"white\", \"plot_bgcolor\": \"#E5ECF6\", \"polar\": {\"angularaxis\": {\"gridcolor\": \"white\", \"linecolor\": \"white\", \"ticks\": \"\"}, \"bgcolor\": \"#E5ECF6\", \"radialaxis\": {\"gridcolor\": \"white\", \"linecolor\": \"white\", \"ticks\": \"\"}}, \"scene\": {\"xaxis\": {\"backgroundcolor\": \"#E5ECF6\", \"gridcolor\": \"white\", \"gridwidth\": 2, \"linecolor\": \"white\", \"showbackground\": true, \"ticks\": \"\", \"zerolinecolor\": \"white\"}, \"yaxis\": {\"backgroundcolor\": \"#E5ECF6\", \"gridcolor\": \"white\", \"gridwidth\": 2, \"linecolor\": \"white\", \"showbackground\": true, \"ticks\": \"\", \"zerolinecolor\": \"white\"}, \"zaxis\": {\"backgroundcolor\": \"#E5ECF6\", \"gridcolor\": \"white\", \"gridwidth\": 2, \"linecolor\": \"white\", \"showbackground\": true, \"ticks\": \"\", \"zerolinecolor\": \"white\"}}, \"shapedefaults\": {\"line\": {\"color\": \"#2a3f5f\"}}, \"ternary\": {\"aaxis\": {\"gridcolor\": \"white\", \"linecolor\": \"white\", \"ticks\": \"\"}, \"baxis\": {\"gridcolor\": \"white\", \"linecolor\": \"white\", \"ticks\": \"\"}, \"bgcolor\": \"#E5ECF6\", \"caxis\": {\"gridcolor\": \"white\", \"linecolor\": \"white\", \"ticks\": \"\"}}, \"title\": {\"x\": 0.05}, \"xaxis\": {\"automargin\": true, \"gridcolor\": \"white\", \"linecolor\": \"white\", \"ticks\": \"\", \"zerolinecolor\": \"white\", \"zerolinewidth\": 2}, \"yaxis\": {\"automargin\": true, \"gridcolor\": \"white\", \"linecolor\": \"white\", \"ticks\": \"\", \"zerolinecolor\": \"white\", \"zerolinewidth\": 2}}}, \"title\": {\"text\": \"Sepal length and Sepal Width of Species\"}, \"xaxis\": {\"ticklen\": 5, \"title\": {\"text\": \"Sepal Length\"}, \"zeroline\": false}, \"yaxis\": {\"ticklen\": 5, \"title\": {\"text\": \"Sepal Width\"}, \"zeroline\": false}},\n",
              "                        {\"responsive\": true}\n",
              "                    ).then(function(){\n",
              "                            \n",
              "var gd = document.getElementById('9b5e06c2-d169-4be0-be44-94198ea4449c');\n",
              "var x = new MutationObserver(function (mutations, observer) {{\n",
              "        var display = window.getComputedStyle(gd).display;\n",
              "        if (!display || display === 'none') {{\n",
              "            console.log([gd, 'removed!']);\n",
              "            Plotly.purge(gd);\n",
              "            observer.disconnect();\n",
              "        }}\n",
              "}});\n",
              "\n",
              "// Listen for the removal of the full notebook cells\n",
              "var notebookContainer = gd.closest('#notebook-container');\n",
              "if (notebookContainer) {{\n",
              "    x.observe(notebookContainer, {childList: true});\n",
              "}}\n",
              "\n",
              "// Listen for the clearing of the current output cell\n",
              "var outputEl = gd.closest('.output');\n",
              "if (outputEl) {{\n",
              "    x.observe(outputEl, {childList: true});\n",
              "}}\n",
              "\n",
              "                        })\n",
              "                };\n",
              "                });\n",
              "            </script>\n",
              "        </div>"
            ],
            "application/vnd.plotly.v1+json": {
              "data": [
                {
                  "name": "iris-setosa",
                  "text": [
                    "iris-sesota",
                    "iris-sesota",
                    "iris-sesota",
                    "iris-sesota",
                    "iris-sesota",
                    "iris-sesota",
                    "iris-sesota",
                    "iris-sesota",
                    "iris-sesota",
                    "iris-sesota",
                    "iris-sesota",
                    "iris-sesota",
                    "iris-sesota",
                    "iris-sesota",
                    "iris-sesota",
                    "iris-sesota",
                    "iris-sesota",
                    "iris-sesota",
                    "iris-sesota",
                    "iris-sesota",
                    "iris-sesota",
                    "iris-sesota",
                    "iris-sesota",
                    "iris-sesota",
                    "iris-sesota",
                    "iris-sesota",
                    "iris-sesota",
                    "iris-sesota",
                    "iris-sesota",
                    "iris-sesota",
                    "iris-sesota",
                    "iris-sesota",
                    "iris-sesota",
                    "iris-sesota",
                    "iris-sesota",
                    "iris-sesota",
                    "iris-sesota",
                    "iris-sesota",
                    "iris-sesota",
                    "iris-sesota",
                    "iris-sesota",
                    "iris-sesota",
                    "iris-sesota",
                    "iris-sesota",
                    "iris-sesota",
                    "iris-sesota",
                    "iris-sesota",
                    "iris-sesota",
                    "iris-sesota",
                    "iris-sesota"
                  ],
                  "y": [
                    3.5,
                    3,
                    3.2,
                    3.1,
                    3.6,
                    3.9,
                    3.4,
                    3.4,
                    2.9,
                    3.1,
                    3.7,
                    3.4,
                    3,
                    3,
                    4,
                    4.4,
                    3.9,
                    3.5,
                    3.8,
                    3.8,
                    3.4,
                    3.7,
                    3.6,
                    3.3,
                    3.4,
                    3,
                    3.4,
                    3.5,
                    3.4,
                    3.2,
                    3.1,
                    3.4,
                    4.1,
                    4.2,
                    3.1,
                    3.2,
                    3.5,
                    3.6,
                    3,
                    3.4,
                    3.5,
                    2.3,
                    3.2,
                    3.5,
                    3.8,
                    3,
                    3.8,
                    3.2,
                    3.7,
                    3.3
                  ],
                  "mode": "markers",
                  "marker": {
                    "color": "rgba(255, 128, 2, 0.8)"
                  },
                  "x": [
                    5.1,
                    4.9,
                    4.7,
                    4.6,
                    5,
                    5.4,
                    4.6,
                    5,
                    4.4,
                    4.9,
                    5.4,
                    4.8,
                    4.8,
                    4.3,
                    5.8,
                    5.7,
                    5.4,
                    5.1,
                    5.7,
                    5.1,
                    5.4,
                    5.1,
                    4.6,
                    5.1,
                    4.8,
                    5,
                    5,
                    5.2,
                    5.2,
                    4.7,
                    4.8,
                    5.4,
                    5.2,
                    5.5,
                    4.9,
                    5,
                    5.5,
                    4.9,
                    4.4,
                    5.1,
                    5,
                    4.5,
                    4.4,
                    5,
                    5.1,
                    4.8,
                    5.1,
                    4.6,
                    5.3,
                    5
                  ],
                  "type": "scatter"
                },
                {
                  "name": "iris-versicolor",
                  "text": [
                    "iris-versicolor",
                    "iris-versicolor",
                    "iris-versicolor",
                    "iris-versicolor",
                    "iris-versicolor",
                    "iris-versicolor",
                    "iris-versicolor",
                    "iris-versicolor",
                    "iris-versicolor",
                    "iris-versicolor",
                    "iris-versicolor",
                    "iris-versicolor",
                    "iris-versicolor",
                    "iris-versicolor",
                    "iris-versicolor",
                    "iris-versicolor",
                    "iris-versicolor",
                    "iris-versicolor",
                    "iris-versicolor",
                    "iris-versicolor",
                    "iris-versicolor",
                    "iris-versicolor",
                    "iris-versicolor",
                    "iris-versicolor",
                    "iris-versicolor",
                    "iris-versicolor",
                    "iris-versicolor",
                    "iris-versicolor",
                    "iris-versicolor",
                    "iris-versicolor",
                    "iris-versicolor",
                    "iris-versicolor",
                    "iris-versicolor",
                    "iris-versicolor",
                    "iris-versicolor",
                    "iris-versicolor",
                    "iris-versicolor",
                    "iris-versicolor",
                    "iris-versicolor",
                    "iris-versicolor",
                    "iris-versicolor",
                    "iris-versicolor",
                    "iris-versicolor",
                    "iris-versicolor",
                    "iris-versicolor",
                    "iris-versicolor",
                    "iris-versicolor",
                    "iris-versicolor",
                    "iris-versicolor",
                    "iris-versicolor"
                  ],
                  "y": [
                    3.2,
                    3.2,
                    3.1,
                    2.3,
                    2.8,
                    2.8,
                    3.3,
                    2.4,
                    2.9,
                    2.7,
                    2,
                    3,
                    2.2,
                    2.9,
                    2.9,
                    3.1,
                    3,
                    2.7,
                    2.2,
                    2.5,
                    3.2,
                    2.8,
                    2.5,
                    2.8,
                    2.9,
                    3,
                    2.8,
                    3,
                    2.9,
                    2.6,
                    2.4,
                    2.4,
                    2.7,
                    2.7,
                    3,
                    3.4,
                    3.1,
                    2.3,
                    3,
                    2.5,
                    2.6,
                    3,
                    2.6,
                    2.3,
                    2.7,
                    3,
                    2.9,
                    2.9,
                    2.5,
                    2.8
                  ],
                  "mode": "markers",
                  "marker": {
                    "color": "rgba(0, 255, 200, 0.8)"
                  },
                  "x": [
                    7,
                    6.4,
                    6.9,
                    5.5,
                    6.5,
                    5.7,
                    6.3,
                    4.9,
                    6.6,
                    5.2,
                    5,
                    5.9,
                    6,
                    6.1,
                    5.6,
                    6.7,
                    5.6,
                    5.8,
                    6.2,
                    5.6,
                    5.9,
                    6.1,
                    6.3,
                    6.1,
                    6.4,
                    6.6,
                    6.8,
                    6.7,
                    6,
                    5.7,
                    5.5,
                    5.5,
                    5.8,
                    6,
                    5.4,
                    6,
                    6.7,
                    6.3,
                    5.6,
                    5.5,
                    5.5,
                    6.1,
                    5.8,
                    5,
                    5.6,
                    5.7,
                    5.7,
                    6.2,
                    5.1,
                    5.7
                  ],
                  "type": "scatter"
                },
                {
                  "name": "iris-virginica",
                  "text": [
                    "iris-virginica",
                    "iris-virginica",
                    "iris-virginica",
                    "iris-virginica",
                    "iris-virginica",
                    "iris-virginica",
                    "iris-virginica",
                    "iris-virginica",
                    "iris-virginica",
                    "iris-virginica",
                    "iris-virginica",
                    "iris-virginica",
                    "iris-virginica",
                    "iris-virginica",
                    "iris-virginica",
                    "iris-virginica",
                    "iris-virginica",
                    "iris-virginica",
                    "iris-virginica",
                    "iris-virginica",
                    "iris-virginica",
                    "iris-virginica",
                    "iris-virginica",
                    "iris-virginica",
                    "iris-virginica",
                    "iris-virginica",
                    "iris-virginica",
                    "iris-virginica",
                    "iris-virginica",
                    "iris-virginica",
                    "iris-virginica",
                    "iris-virginica",
                    "iris-virginica",
                    "iris-virginica",
                    "iris-virginica",
                    "iris-virginica",
                    "iris-virginica",
                    "iris-virginica",
                    "iris-virginica",
                    "iris-virginica",
                    "iris-virginica",
                    "iris-virginica",
                    "iris-virginica",
                    "iris-virginica",
                    "iris-virginica",
                    "iris-virginica",
                    "iris-virginica",
                    "iris-virginica",
                    "iris-virginica",
                    "iris-virginica"
                  ],
                  "y": [
                    3.3,
                    2.7,
                    3,
                    2.9,
                    3,
                    3,
                    2.5,
                    2.9,
                    2.5,
                    3.6,
                    3.2,
                    2.7,
                    3,
                    2.5,
                    2.8,
                    3.2,
                    3,
                    3.8,
                    2.6,
                    2.2,
                    3.2,
                    2.8,
                    2.8,
                    2.7,
                    3.3,
                    3.2,
                    2.8,
                    3,
                    2.8,
                    3,
                    2.8,
                    3.8,
                    2.8,
                    2.8,
                    2.6,
                    3,
                    3.4,
                    3.1,
                    3,
                    3.1,
                    3.1,
                    3.1,
                    2.7,
                    3.2,
                    3.3,
                    3,
                    2.5,
                    3,
                    3.4,
                    3
                  ],
                  "mode": "markers",
                  "marker": {
                    "color": "rgba(255, 128, 255, 0.8)"
                  },
                  "x": [
                    6.3,
                    5.8,
                    7.1,
                    6.3,
                    6.5,
                    7.6,
                    4.9,
                    7.3,
                    6.7,
                    7.2,
                    6.5,
                    6.4,
                    6.8,
                    5.7,
                    5.8,
                    6.4,
                    6.5,
                    7.7,
                    7.7,
                    6,
                    6.9,
                    5.6,
                    7.7,
                    6.3,
                    6.7,
                    7.2,
                    6.2,
                    6.1,
                    6.4,
                    7.2,
                    7.4,
                    7.9,
                    6.4,
                    6.3,
                    6.1,
                    7.7,
                    6.3,
                    6.4,
                    6,
                    6.9,
                    6.7,
                    6.9,
                    5.8,
                    6.8,
                    6.7,
                    6.7,
                    6.3,
                    6.5,
                    6.2,
                    5.9
                  ],
                  "type": "scatter"
                }
              ],
              "config": {
                "plotlyServerURL": "https://plot.ly",
                "linkText": "Export to plot.ly",
                "showLink": false
              },
              "layout": {
                "yaxis": {
                  "zeroline": false,
                  "ticklen": 5,
                  "title": {
                    "text": "Sepal Width"
                  }
                },
                "xaxis": {
                  "zeroline": false,
                  "ticklen": 5,
                  "title": {
                    "text": "Sepal Length"
                  }
                },
                "template": {
                  "layout": {
                    "shapedefaults": {
                      "line": {
                        "color": "#2a3f5f"
                      }
                    },
                    "polar": {
                      "radialaxis": {
                        "ticks": "",
                        "gridcolor": "white",
                        "linecolor": "white"
                      },
                      "bgcolor": "#E5ECF6",
                      "angularaxis": {
                        "ticks": "",
                        "gridcolor": "white",
                        "linecolor": "white"
                      }
                    },
                    "colorway": [
                      "#636efa",
                      "#EF553B",
                      "#00cc96",
                      "#ab63fa",
                      "#FFA15A",
                      "#19d3f3",
                      "#FF6692",
                      "#B6E880",
                      "#FF97FF",
                      "#FECB52"
                    ],
                    "xaxis": {
                      "automargin": true,
                      "zerolinewidth": 2,
                      "ticks": "",
                      "zerolinecolor": "white",
                      "gridcolor": "white",
                      "linecolor": "white"
                    },
                    "colorscale": {
                      "diverging": [
                        [
                          0,
                          "#8e0152"
                        ],
                        [
                          0.1,
                          "#c51b7d"
                        ],
                        [
                          0.2,
                          "#de77ae"
                        ],
                        [
                          0.3,
                          "#f1b6da"
                        ],
                        [
                          0.4,
                          "#fde0ef"
                        ],
                        [
                          0.5,
                          "#f7f7f7"
                        ],
                        [
                          0.6,
                          "#e6f5d0"
                        ],
                        [
                          0.7,
                          "#b8e186"
                        ],
                        [
                          0.8,
                          "#7fbc41"
                        ],
                        [
                          0.9,
                          "#4d9221"
                        ],
                        [
                          1,
                          "#276419"
                        ]
                      ],
                      "sequential": [
                        [
                          0,
                          "#0d0887"
                        ],
                        [
                          0.1111111111111111,
                          "#46039f"
                        ],
                        [
                          0.2222222222222222,
                          "#7201a8"
                        ],
                        [
                          0.3333333333333333,
                          "#9c179e"
                        ],
                        [
                          0.4444444444444444,
                          "#bd3786"
                        ],
                        [
                          0.5555555555555556,
                          "#d8576b"
                        ],
                        [
                          0.6666666666666666,
                          "#ed7953"
                        ],
                        [
                          0.7777777777777778,
                          "#fb9f3a"
                        ],
                        [
                          0.8888888888888888,
                          "#fdca26"
                        ],
                        [
                          1,
                          "#f0f921"
                        ]
                      ],
                      "sequentialminus": [
                        [
                          0,
                          "#0d0887"
                        ],
                        [
                          0.1111111111111111,
                          "#46039f"
                        ],
                        [
                          0.2222222222222222,
                          "#7201a8"
                        ],
                        [
                          0.3333333333333333,
                          "#9c179e"
                        ],
                        [
                          0.4444444444444444,
                          "#bd3786"
                        ],
                        [
                          0.5555555555555556,
                          "#d8576b"
                        ],
                        [
                          0.6666666666666666,
                          "#ed7953"
                        ],
                        [
                          0.7777777777777778,
                          "#fb9f3a"
                        ],
                        [
                          0.8888888888888888,
                          "#fdca26"
                        ],
                        [
                          1,
                          "#f0f921"
                        ]
                      ]
                    },
                    "paper_bgcolor": "white",
                    "plot_bgcolor": "#E5ECF6",
                    "title": {
                      "x": 0.05
                    },
                    "scene": {
                      "zaxis": {
                        "backgroundcolor": "#E5ECF6",
                        "ticks": "",
                        "gridwidth": 2,
                        "showbackground": true,
                        "zerolinecolor": "white",
                        "gridcolor": "white",
                        "linecolor": "white"
                      },
                      "xaxis": {
                        "backgroundcolor": "#E5ECF6",
                        "ticks": "",
                        "gridwidth": 2,
                        "showbackground": true,
                        "zerolinecolor": "white",
                        "gridcolor": "white",
                        "linecolor": "white"
                      },
                      "yaxis": {
                        "backgroundcolor": "#E5ECF6",
                        "ticks": "",
                        "gridwidth": 2,
                        "showbackground": true,
                        "zerolinecolor": "white",
                        "gridcolor": "white",
                        "linecolor": "white"
                      }
                    },
                    "yaxis": {
                      "automargin": true,
                      "zerolinewidth": 2,
                      "ticks": "",
                      "zerolinecolor": "white",
                      "gridcolor": "white",
                      "linecolor": "white"
                    },
                    "hoverlabel": {
                      "align": "left"
                    },
                    "ternary": {
                      "bgcolor": "#E5ECF6",
                      "baxis": {
                        "ticks": "",
                        "gridcolor": "white",
                        "linecolor": "white"
                      },
                      "caxis": {
                        "ticks": "",
                        "gridcolor": "white",
                        "linecolor": "white"
                      },
                      "aaxis": {
                        "ticks": "",
                        "gridcolor": "white",
                        "linecolor": "white"
                      }
                    },
                    "mapbox": {
                      "style": "light"
                    },
                    "hovermode": "closest",
                    "font": {
                      "color": "#2a3f5f"
                    },
                    "geo": {
                      "showland": true,
                      "landcolor": "#E5ECF6",
                      "showlakes": true,
                      "bgcolor": "white",
                      "subunitcolor": "white",
                      "lakecolor": "white"
                    },
                    "annotationdefaults": {
                      "arrowwidth": 1,
                      "arrowhead": 0,
                      "arrowcolor": "#2a3f5f"
                    }
                  },
                  "data": {
                    "mesh3d": [
                      {
                        "colorbar": {
                          "outlinewidth": 0,
                          "ticks": ""
                        },
                        "type": "mesh3d"
                      }
                    ],
                    "scattercarpet": [
                      {
                        "marker": {
                          "colorbar": {
                            "outlinewidth": 0,
                            "ticks": ""
                          }
                        },
                        "type": "scattercarpet"
                      }
                    ],
                    "scatterternary": [
                      {
                        "marker": {
                          "colorbar": {
                            "outlinewidth": 0,
                            "ticks": ""
                          }
                        },
                        "type": "scatterternary"
                      }
                    ],
                    "surface": [
                      {
                        "colorbar": {
                          "outlinewidth": 0,
                          "ticks": ""
                        },
                        "type": "surface",
                        "colorscale": [
                          [
                            0,
                            "#0d0887"
                          ],
                          [
                            0.1111111111111111,
                            "#46039f"
                          ],
                          [
                            0.2222222222222222,
                            "#7201a8"
                          ],
                          [
                            0.3333333333333333,
                            "#9c179e"
                          ],
                          [
                            0.4444444444444444,
                            "#bd3786"
                          ],
                          [
                            0.5555555555555556,
                            "#d8576b"
                          ],
                          [
                            0.6666666666666666,
                            "#ed7953"
                          ],
                          [
                            0.7777777777777778,
                            "#fb9f3a"
                          ],
                          [
                            0.8888888888888888,
                            "#fdca26"
                          ],
                          [
                            1,
                            "#f0f921"
                          ]
                        ]
                      }
                    ],
                    "table": [
                      {
                        "header": {
                          "line": {
                            "color": "white"
                          },
                          "fill": {
                            "color": "#C8D4E3"
                          }
                        },
                        "cells": {
                          "line": {
                            "color": "white"
                          },
                          "fill": {
                            "color": "#EBF0F8"
                          }
                        },
                        "type": "table"
                      }
                    ],
                    "scatterpolargl": [
                      {
                        "marker": {
                          "colorbar": {
                            "outlinewidth": 0,
                            "ticks": ""
                          }
                        },
                        "type": "scatterpolargl"
                      }
                    ],
                    "contour": [
                      {
                        "colorbar": {
                          "outlinewidth": 0,
                          "ticks": ""
                        },
                        "type": "contour",
                        "colorscale": [
                          [
                            0,
                            "#0d0887"
                          ],
                          [
                            0.1111111111111111,
                            "#46039f"
                          ],
                          [
                            0.2222222222222222,
                            "#7201a8"
                          ],
                          [
                            0.3333333333333333,
                            "#9c179e"
                          ],
                          [
                            0.4444444444444444,
                            "#bd3786"
                          ],
                          [
                            0.5555555555555556,
                            "#d8576b"
                          ],
                          [
                            0.6666666666666666,
                            "#ed7953"
                          ],
                          [
                            0.7777777777777778,
                            "#fb9f3a"
                          ],
                          [
                            0.8888888888888888,
                            "#fdca26"
                          ],
                          [
                            1,
                            "#f0f921"
                          ]
                        ]
                      }
                    ],
                    "carpet": [
                      {
                        "type": "carpet",
                        "baxis": {
                          "minorgridcolor": "white",
                          "gridcolor": "white",
                          "linecolor": "white",
                          "endlinecolor": "#2a3f5f",
                          "startlinecolor": "#2a3f5f"
                        },
                        "aaxis": {
                          "minorgridcolor": "white",
                          "gridcolor": "white",
                          "linecolor": "white",
                          "endlinecolor": "#2a3f5f",
                          "startlinecolor": "#2a3f5f"
                        }
                      }
                    ],
                    "contourcarpet": [
                      {
                        "colorbar": {
                          "outlinewidth": 0,
                          "ticks": ""
                        },
                        "type": "contourcarpet"
                      }
                    ],
                    "heatmap": [
                      {
                        "colorbar": {
                          "outlinewidth": 0,
                          "ticks": ""
                        },
                        "type": "heatmap",
                        "colorscale": [
                          [
                            0,
                            "#0d0887"
                          ],
                          [
                            0.1111111111111111,
                            "#46039f"
                          ],
                          [
                            0.2222222222222222,
                            "#7201a8"
                          ],
                          [
                            0.3333333333333333,
                            "#9c179e"
                          ],
                          [
                            0.4444444444444444,
                            "#bd3786"
                          ],
                          [
                            0.5555555555555556,
                            "#d8576b"
                          ],
                          [
                            0.6666666666666666,
                            "#ed7953"
                          ],
                          [
                            0.7777777777777778,
                            "#fb9f3a"
                          ],
                          [
                            0.8888888888888888,
                            "#fdca26"
                          ],
                          [
                            1,
                            "#f0f921"
                          ]
                        ]
                      }
                    ],
                    "scattermapbox": [
                      {
                        "marker": {
                          "colorbar": {
                            "outlinewidth": 0,
                            "ticks": ""
                          }
                        },
                        "type": "scattermapbox"
                      }
                    ],
                    "scatter3d": [
                      {
                        "marker": {
                          "colorbar": {
                            "outlinewidth": 0,
                            "ticks": ""
                          }
                        },
                        "line": {
                          "colorbar": {
                            "outlinewidth": 0,
                            "ticks": ""
                          }
                        },
                        "type": "scatter3d"
                      }
                    ],
                    "scattergl": [
                      {
                        "marker": {
                          "colorbar": {
                            "outlinewidth": 0,
                            "ticks": ""
                          }
                        },
                        "type": "scattergl"
                      }
                    ],
                    "histogram": [
                      {
                        "marker": {
                          "colorbar": {
                            "outlinewidth": 0,
                            "ticks": ""
                          }
                        },
                        "type": "histogram"
                      }
                    ],
                    "heatmapgl": [
                      {
                        "colorbar": {
                          "outlinewidth": 0,
                          "ticks": ""
                        },
                        "type": "heatmapgl",
                        "colorscale": [
                          [
                            0,
                            "#0d0887"
                          ],
                          [
                            0.1111111111111111,
                            "#46039f"
                          ],
                          [
                            0.2222222222222222,
                            "#7201a8"
                          ],
                          [
                            0.3333333333333333,
                            "#9c179e"
                          ],
                          [
                            0.4444444444444444,
                            "#bd3786"
                          ],
                          [
                            0.5555555555555556,
                            "#d8576b"
                          ],
                          [
                            0.6666666666666666,
                            "#ed7953"
                          ],
                          [
                            0.7777777777777778,
                            "#fb9f3a"
                          ],
                          [
                            0.8888888888888888,
                            "#fdca26"
                          ],
                          [
                            1,
                            "#f0f921"
                          ]
                        ]
                      }
                    ],
                    "scatterpolar": [
                      {
                        "marker": {
                          "colorbar": {
                            "outlinewidth": 0,
                            "ticks": ""
                          }
                        },
                        "type": "scatterpolar"
                      }
                    ],
                    "histogram2d": [
                      {
                        "colorbar": {
                          "outlinewidth": 0,
                          "ticks": ""
                        },
                        "type": "histogram2d",
                        "colorscale": [
                          [
                            0,
                            "#0d0887"
                          ],
                          [
                            0.1111111111111111,
                            "#46039f"
                          ],
                          [
                            0.2222222222222222,
                            "#7201a8"
                          ],
                          [
                            0.3333333333333333,
                            "#9c179e"
                          ],
                          [
                            0.4444444444444444,
                            "#bd3786"
                          ],
                          [
                            0.5555555555555556,
                            "#d8576b"
                          ],
                          [
                            0.6666666666666666,
                            "#ed7953"
                          ],
                          [
                            0.7777777777777778,
                            "#fb9f3a"
                          ],
                          [
                            0.8888888888888888,
                            "#fdca26"
                          ],
                          [
                            1,
                            "#f0f921"
                          ]
                        ]
                      }
                    ],
                    "scattergeo": [
                      {
                        "marker": {
                          "colorbar": {
                            "outlinewidth": 0,
                            "ticks": ""
                          }
                        },
                        "type": "scattergeo"
                      }
                    ],
                    "bar": [
                      {
                        "marker": {
                          "line": {
                            "color": "#E5ECF6",
                            "width": 0.5
                          }
                        },
                        "type": "bar",
                        "error_x": {
                          "color": "#2a3f5f"
                        },
                        "error_y": {
                          "color": "#2a3f5f"
                        }
                      }
                    ],
                    "choropleth": [
                      {
                        "colorbar": {
                          "outlinewidth": 0,
                          "ticks": ""
                        },
                        "type": "choropleth"
                      }
                    ],
                    "parcoords": [
                      {
                        "line": {
                          "colorbar": {
                            "outlinewidth": 0,
                            "ticks": ""
                          }
                        },
                        "type": "parcoords"
                      }
                    ],
                    "barpolar": [
                      {
                        "marker": {
                          "line": {
                            "color": "#E5ECF6",
                            "width": 0.5
                          }
                        },
                        "type": "barpolar"
                      }
                    ],
                    "histogram2dcontour": [
                      {
                        "colorbar": {
                          "outlinewidth": 0,
                          "ticks": ""
                        },
                        "type": "histogram2dcontour",
                        "colorscale": [
                          [
                            0,
                            "#0d0887"
                          ],
                          [
                            0.1111111111111111,
                            "#46039f"
                          ],
                          [
                            0.2222222222222222,
                            "#7201a8"
                          ],
                          [
                            0.3333333333333333,
                            "#9c179e"
                          ],
                          [
                            0.4444444444444444,
                            "#bd3786"
                          ],
                          [
                            0.5555555555555556,
                            "#d8576b"
                          ],
                          [
                            0.6666666666666666,
                            "#ed7953"
                          ],
                          [
                            0.7777777777777778,
                            "#fb9f3a"
                          ],
                          [
                            0.8888888888888888,
                            "#fdca26"
                          ],
                          [
                            1,
                            "#f0f921"
                          ]
                        ]
                      }
                    ],
                    "scatter": [
                      {
                        "marker": {
                          "colorbar": {
                            "outlinewidth": 0,
                            "ticks": ""
                          }
                        },
                        "type": "scatter"
                      }
                    ]
                  }
                },
                "title": {
                  "text": "Sepal length and Sepal Width of Species"
                }
              }
            }
          },
          "metadata": {
            "tags": []
          }
        }
      ]
    },
    {
      "cell_type": "markdown",
      "metadata": {
        "_uuid": "8396969e16281d45adb4c5c764249dff2e6b213b",
        "id": "0nSI6RI9jppT",
        "colab_type": "text"
      },
      "source": [
        "# Relation Between Petal Length And Petal Width"
      ]
    },
    {
      "cell_type": "code",
      "metadata": {
        "trusted": true,
        "_uuid": "6399c0eb714732b844bacc473dc89d7567b43c1a",
        "id": "-WYKG8qSjppU",
        "colab_type": "code",
        "outputId": "a1d2013b-bc82-499a-f46f-63c00d212db0",
        "colab": {
          "base_uri": "https://localhost:8080/",
          "height": 542
        }
      },
      "source": [
        "#import graph_obj as go\n",
        "import plotly.graph_objs as go\n",
        "\n",
        "#split the datasets according to the respective species so that\n",
        "#easier while plotting scatter plots\n",
        "df1=iris_df.iloc[:50,:]\n",
        "df2=iris_df.iloc[50:100,:]\n",
        "df3=iris_df.iloc[100:150,:]\n",
        "#creating traces\n",
        "trace1 = go.Scatter(\n",
        "    #x=x-axis\n",
        "    x=df1.petal_length,\n",
        "    #y=y-axis\n",
        "    y=df1.petal_width,\n",
        "    #mode defines the type of plot eg-lines,markers,line+markers\n",
        "    mode='markers',\n",
        "    #name pf the plots\n",
        "    name='iris-setosa',\n",
        "    #markers->color and alpha of the respective trace\n",
        "    marker=dict(color = 'rgba(255, 128, 2, 0.8)'),\n",
        "    #the hover text\n",
        "    text=df1.species)\n",
        "trace2 = go.Scatter(\n",
        "    x=df2.petal_length,\n",
        "    y=df2.petal_width,\n",
        "    mode='markers',\n",
        "    name='iris-versicolor',\n",
        "    marker=dict(color = 'rgba(0, 255, 200, 0.8)'),\n",
        "    text=df2.species)\n",
        "trace3 = go.Scatter(\n",
        "    x=df3.petal_length,\n",
        "    y=df3.petal_width,\n",
        "    mode='markers',\n",
        "    name='iris-virginica',\n",
        "    marker=dict(color = 'rgba(255, 128, 255, 0.8)'),\n",
        "    text=df3.species)\n",
        "#a list of all the traces\n",
        "data_list=[trace1,trace2,trace3]\n",
        "#it is a dictionary containing info about title,axis etc\n",
        "layout=dict(title='Petal length and Petal Width of Species',\n",
        "               xaxis=dict(title='Petal Length',ticklen=5,zeroline=False),\n",
        "               yaxis=dict(title='Petal Width',ticklen=5,zeroline=False)\n",
        "            )\n",
        "#fig object includes data and layout\n",
        "fig=dict(data=data_list,layout=layout)\n",
        "#plotting the fig\n",
        "py.offline.iplot(fig)"
      ],
      "execution_count": 0,
      "outputs": [
        {
          "output_type": "display_data",
          "data": {
            "text/html": [
              "<div>\n",
              "        \n",
              "        \n",
              "            <div id=\"fbfc02d5-e996-4e7f-b238-22240480637d\" class=\"plotly-graph-div\" style=\"height:525px; width:100%;\"></div>\n",
              "            <script type=\"text/javascript\">\n",
              "                require([\"plotly\"], function(Plotly) {\n",
              "                    window.PLOTLYENV=window.PLOTLYENV || {};\n",
              "                    \n",
              "                if (document.getElementById(\"fbfc02d5-e996-4e7f-b238-22240480637d\")) {\n",
              "                    Plotly.newPlot(\n",
              "                        'fbfc02d5-e996-4e7f-b238-22240480637d',\n",
              "                        [{\"marker\": {\"color\": \"rgba(255, 128, 2, 0.8)\"}, \"mode\": \"markers\", \"name\": \"iris-setosa\", \"text\": [\"iris-sesota\", \"iris-sesota\", \"iris-sesota\", \"iris-sesota\", \"iris-sesota\", \"iris-sesota\", \"iris-sesota\", \"iris-sesota\", \"iris-sesota\", \"iris-sesota\", \"iris-sesota\", \"iris-sesota\", \"iris-sesota\", \"iris-sesota\", \"iris-sesota\", \"iris-sesota\", \"iris-sesota\", \"iris-sesota\", \"iris-sesota\", \"iris-sesota\", \"iris-sesota\", \"iris-sesota\", \"iris-sesota\", \"iris-sesota\", \"iris-sesota\", \"iris-sesota\", \"iris-sesota\", \"iris-sesota\", \"iris-sesota\", \"iris-sesota\", \"iris-sesota\", \"iris-sesota\", \"iris-sesota\", \"iris-sesota\", \"iris-sesota\", \"iris-sesota\", \"iris-sesota\", \"iris-sesota\", \"iris-sesota\", \"iris-sesota\", \"iris-sesota\", \"iris-sesota\", \"iris-sesota\", \"iris-sesota\", \"iris-sesota\", \"iris-sesota\", \"iris-sesota\", \"iris-sesota\", \"iris-sesota\", \"iris-sesota\"], \"type\": \"scatter\", \"x\": [1.4, 1.4, 1.3, 1.5, 1.4, 1.7, 1.4, 1.5, 1.4, 1.5, 1.5, 1.6, 1.4, 1.1, 1.2, 1.5, 1.3, 1.4, 1.7, 1.5, 1.7, 1.5, 1.0, 1.7, 1.9, 1.6, 1.6, 1.5, 1.4, 1.6, 1.6, 1.5, 1.5, 1.4, 1.5, 1.2, 1.3, 1.4, 1.3, 1.5, 1.3, 1.3, 1.3, 1.6, 1.9, 1.4, 1.6, 1.4, 1.5, 1.4], \"y\": [0.2, 0.2, 0.2, 0.2, 0.2, 0.4, 0.3, 0.2, 0.2, 0.1, 0.2, 0.2, 0.1, 0.1, 0.2, 0.4, 0.4, 0.3, 0.3, 0.3, 0.2, 0.4, 0.2, 0.5, 0.2, 0.2, 0.4, 0.2, 0.2, 0.2, 0.2, 0.4, 0.1, 0.2, 0.2, 0.2, 0.2, 0.1, 0.2, 0.2, 0.3, 0.3, 0.2, 0.6, 0.4, 0.3, 0.2, 0.2, 0.2, 0.2]}, {\"marker\": {\"color\": \"rgba(0, 255, 200, 0.8)\"}, \"mode\": \"markers\", \"name\": \"iris-versicolor\", \"text\": [\"iris-versicolor\", \"iris-versicolor\", \"iris-versicolor\", \"iris-versicolor\", \"iris-versicolor\", \"iris-versicolor\", \"iris-versicolor\", \"iris-versicolor\", \"iris-versicolor\", \"iris-versicolor\", \"iris-versicolor\", \"iris-versicolor\", \"iris-versicolor\", \"iris-versicolor\", \"iris-versicolor\", \"iris-versicolor\", \"iris-versicolor\", \"iris-versicolor\", \"iris-versicolor\", \"iris-versicolor\", \"iris-versicolor\", \"iris-versicolor\", \"iris-versicolor\", \"iris-versicolor\", \"iris-versicolor\", \"iris-versicolor\", \"iris-versicolor\", \"iris-versicolor\", \"iris-versicolor\", \"iris-versicolor\", \"iris-versicolor\", \"iris-versicolor\", \"iris-versicolor\", \"iris-versicolor\", \"iris-versicolor\", \"iris-versicolor\", \"iris-versicolor\", \"iris-versicolor\", \"iris-versicolor\", \"iris-versicolor\", \"iris-versicolor\", \"iris-versicolor\", \"iris-versicolor\", \"iris-versicolor\", \"iris-versicolor\", \"iris-versicolor\", \"iris-versicolor\", \"iris-versicolor\", \"iris-versicolor\", \"iris-versicolor\"], \"type\": \"scatter\", \"x\": [4.7, 4.5, 4.9, 4.0, 4.6, 4.5, 4.7, 3.3, 4.6, 3.9, 3.5, 4.2, 4.0, 4.7, 3.6, 4.4, 4.5, 4.1, 4.5, 3.9, 4.8, 4.0, 4.9, 4.7, 4.3, 4.4, 4.8, 5.0, 4.5, 3.5, 3.8, 3.7, 3.9, 5.1, 4.5, 4.5, 4.7, 4.4, 4.1, 4.0, 4.4, 4.6, 4.0, 3.3, 4.2, 4.2, 4.2, 4.3, 3.0, 4.1], \"y\": [1.4, 1.5, 1.5, 1.3, 1.5, 1.3, 1.6, 1.0, 1.3, 1.4, 1.0, 1.5, 1.0, 1.4, 1.3, 1.4, 1.5, 1.0, 1.5, 1.1, 1.8, 1.3, 1.5, 1.2, 1.3, 1.4, 1.4, 1.7, 1.5, 1.0, 1.1, 1.0, 1.2, 1.6, 1.5, 1.6, 1.5, 1.3, 1.3, 1.3, 1.2, 1.4, 1.2, 1.0, 1.3, 1.2, 1.3, 1.3, 1.1, 1.3]}, {\"marker\": {\"color\": \"rgba(255, 128, 255, 0.8)\"}, \"mode\": \"markers\", \"name\": \"iris-virginica\", \"text\": [\"iris-virginica\", \"iris-virginica\", \"iris-virginica\", \"iris-virginica\", \"iris-virginica\", \"iris-virginica\", \"iris-virginica\", \"iris-virginica\", \"iris-virginica\", \"iris-virginica\", \"iris-virginica\", \"iris-virginica\", \"iris-virginica\", \"iris-virginica\", \"iris-virginica\", \"iris-virginica\", \"iris-virginica\", \"iris-virginica\", \"iris-virginica\", \"iris-virginica\", \"iris-virginica\", \"iris-virginica\", \"iris-virginica\", \"iris-virginica\", \"iris-virginica\", \"iris-virginica\", \"iris-virginica\", \"iris-virginica\", \"iris-virginica\", \"iris-virginica\", \"iris-virginica\", \"iris-virginica\", \"iris-virginica\", \"iris-virginica\", \"iris-virginica\", \"iris-virginica\", \"iris-virginica\", \"iris-virginica\", \"iris-virginica\", \"iris-virginica\", \"iris-virginica\", \"iris-virginica\", \"iris-virginica\", \"iris-virginica\", \"iris-virginica\", \"iris-virginica\", \"iris-virginica\", \"iris-virginica\", \"iris-virginica\", \"iris-virginica\"], \"type\": \"scatter\", \"x\": [6.0, 5.1, 5.9, 5.6, 5.8, 6.6, 4.5, 6.3, 5.8, 6.1, 5.1, 5.3, 5.5, 5.0, 5.1, 5.3, 5.5, 6.7, 6.9, 5.0, 5.7, 4.9, 6.7, 4.9, 5.7, 6.0, 4.8, 4.9, 5.6, 5.8, 6.1, 6.4, 5.6, 5.1, 5.6, 6.1, 5.6, 5.5, 4.8, 5.4, 5.6, 5.1, 5.1, 5.9, 5.7, 5.2, 5.0, 5.2, 5.4, 5.1], \"y\": [2.5, 1.9, 2.1, 1.8, 2.2, 2.1, 1.7, 1.8, 1.8, 2.5, 2.0, 1.9, 2.1, 2.0, 2.4, 2.3, 1.8, 2.2, 2.3, 1.5, 2.3, 2.0, 2.0, 1.8, 2.1, 1.8, 1.8, 1.8, 2.1, 1.6, 1.9, 2.0, 2.2, 1.5, 1.4, 2.3, 2.4, 1.8, 1.8, 2.1, 2.4, 2.3, 1.9, 2.3, 2.5, 2.3, 1.9, 2.0, 2.3, 1.8]}],\n",
              "                        {\"template\": {\"data\": {\"bar\": [{\"error_x\": {\"color\": \"#2a3f5f\"}, \"error_y\": {\"color\": \"#2a3f5f\"}, \"marker\": {\"line\": {\"color\": \"#E5ECF6\", \"width\": 0.5}}, \"type\": \"bar\"}], \"barpolar\": [{\"marker\": {\"line\": {\"color\": \"#E5ECF6\", \"width\": 0.5}}, \"type\": \"barpolar\"}], \"carpet\": [{\"aaxis\": {\"endlinecolor\": \"#2a3f5f\", \"gridcolor\": \"white\", \"linecolor\": \"white\", \"minorgridcolor\": \"white\", \"startlinecolor\": \"#2a3f5f\"}, \"baxis\": {\"endlinecolor\": \"#2a3f5f\", \"gridcolor\": \"white\", \"linecolor\": \"white\", \"minorgridcolor\": \"white\", \"startlinecolor\": \"#2a3f5f\"}, \"type\": \"carpet\"}], \"choropleth\": [{\"colorbar\": {\"outlinewidth\": 0, \"ticks\": \"\"}, \"type\": \"choropleth\"}], \"contour\": [{\"colorbar\": {\"outlinewidth\": 0, \"ticks\": \"\"}, \"colorscale\": [[0.0, \"#0d0887\"], [0.1111111111111111, \"#46039f\"], [0.2222222222222222, \"#7201a8\"], [0.3333333333333333, \"#9c179e\"], [0.4444444444444444, \"#bd3786\"], [0.5555555555555556, \"#d8576b\"], [0.6666666666666666, \"#ed7953\"], [0.7777777777777778, \"#fb9f3a\"], [0.8888888888888888, \"#fdca26\"], [1.0, \"#f0f921\"]], \"type\": \"contour\"}], \"contourcarpet\": [{\"colorbar\": {\"outlinewidth\": 0, \"ticks\": \"\"}, \"type\": \"contourcarpet\"}], \"heatmap\": [{\"colorbar\": {\"outlinewidth\": 0, \"ticks\": \"\"}, \"colorscale\": [[0.0, \"#0d0887\"], [0.1111111111111111, \"#46039f\"], [0.2222222222222222, \"#7201a8\"], [0.3333333333333333, \"#9c179e\"], [0.4444444444444444, \"#bd3786\"], [0.5555555555555556, \"#d8576b\"], [0.6666666666666666, \"#ed7953\"], [0.7777777777777778, \"#fb9f3a\"], [0.8888888888888888, \"#fdca26\"], [1.0, \"#f0f921\"]], \"type\": \"heatmap\"}], \"heatmapgl\": [{\"colorbar\": {\"outlinewidth\": 0, \"ticks\": \"\"}, \"colorscale\": [[0.0, \"#0d0887\"], [0.1111111111111111, \"#46039f\"], [0.2222222222222222, \"#7201a8\"], [0.3333333333333333, \"#9c179e\"], [0.4444444444444444, \"#bd3786\"], [0.5555555555555556, \"#d8576b\"], [0.6666666666666666, \"#ed7953\"], [0.7777777777777778, \"#fb9f3a\"], [0.8888888888888888, \"#fdca26\"], [1.0, \"#f0f921\"]], \"type\": \"heatmapgl\"}], \"histogram\": [{\"marker\": {\"colorbar\": {\"outlinewidth\": 0, \"ticks\": \"\"}}, \"type\": \"histogram\"}], \"histogram2d\": [{\"colorbar\": {\"outlinewidth\": 0, \"ticks\": \"\"}, \"colorscale\": [[0.0, \"#0d0887\"], [0.1111111111111111, \"#46039f\"], [0.2222222222222222, \"#7201a8\"], [0.3333333333333333, \"#9c179e\"], [0.4444444444444444, \"#bd3786\"], [0.5555555555555556, \"#d8576b\"], [0.6666666666666666, \"#ed7953\"], [0.7777777777777778, \"#fb9f3a\"], [0.8888888888888888, \"#fdca26\"], [1.0, \"#f0f921\"]], \"type\": \"histogram2d\"}], \"histogram2dcontour\": [{\"colorbar\": {\"outlinewidth\": 0, \"ticks\": \"\"}, \"colorscale\": [[0.0, \"#0d0887\"], [0.1111111111111111, \"#46039f\"], [0.2222222222222222, \"#7201a8\"], [0.3333333333333333, \"#9c179e\"], [0.4444444444444444, \"#bd3786\"], [0.5555555555555556, \"#d8576b\"], [0.6666666666666666, \"#ed7953\"], [0.7777777777777778, \"#fb9f3a\"], [0.8888888888888888, \"#fdca26\"], [1.0, \"#f0f921\"]], \"type\": \"histogram2dcontour\"}], \"mesh3d\": [{\"colorbar\": {\"outlinewidth\": 0, \"ticks\": \"\"}, \"type\": \"mesh3d\"}], \"parcoords\": [{\"line\": {\"colorbar\": {\"outlinewidth\": 0, \"ticks\": \"\"}}, \"type\": \"parcoords\"}], \"scatter\": [{\"marker\": {\"colorbar\": {\"outlinewidth\": 0, \"ticks\": \"\"}}, \"type\": \"scatter\"}], \"scatter3d\": [{\"line\": {\"colorbar\": {\"outlinewidth\": 0, \"ticks\": \"\"}}, \"marker\": {\"colorbar\": {\"outlinewidth\": 0, \"ticks\": \"\"}}, \"type\": \"scatter3d\"}], \"scattercarpet\": [{\"marker\": {\"colorbar\": {\"outlinewidth\": 0, \"ticks\": \"\"}}, \"type\": \"scattercarpet\"}], \"scattergeo\": [{\"marker\": {\"colorbar\": {\"outlinewidth\": 0, \"ticks\": \"\"}}, \"type\": \"scattergeo\"}], \"scattergl\": [{\"marker\": {\"colorbar\": {\"outlinewidth\": 0, \"ticks\": \"\"}}, \"type\": \"scattergl\"}], \"scattermapbox\": [{\"marker\": {\"colorbar\": {\"outlinewidth\": 0, \"ticks\": \"\"}}, \"type\": \"scattermapbox\"}], \"scatterpolar\": [{\"marker\": {\"colorbar\": {\"outlinewidth\": 0, \"ticks\": \"\"}}, \"type\": \"scatterpolar\"}], \"scatterpolargl\": [{\"marker\": {\"colorbar\": {\"outlinewidth\": 0, \"ticks\": \"\"}}, \"type\": \"scatterpolargl\"}], \"scatterternary\": [{\"marker\": {\"colorbar\": {\"outlinewidth\": 0, \"ticks\": \"\"}}, \"type\": \"scatterternary\"}], \"surface\": [{\"colorbar\": {\"outlinewidth\": 0, \"ticks\": \"\"}, \"colorscale\": [[0.0, \"#0d0887\"], [0.1111111111111111, \"#46039f\"], [0.2222222222222222, \"#7201a8\"], [0.3333333333333333, \"#9c179e\"], [0.4444444444444444, \"#bd3786\"], [0.5555555555555556, \"#d8576b\"], [0.6666666666666666, \"#ed7953\"], [0.7777777777777778, \"#fb9f3a\"], [0.8888888888888888, \"#fdca26\"], [1.0, \"#f0f921\"]], \"type\": \"surface\"}], \"table\": [{\"cells\": {\"fill\": {\"color\": \"#EBF0F8\"}, \"line\": {\"color\": \"white\"}}, \"header\": {\"fill\": {\"color\": \"#C8D4E3\"}, \"line\": {\"color\": \"white\"}}, \"type\": \"table\"}]}, \"layout\": {\"annotationdefaults\": {\"arrowcolor\": \"#2a3f5f\", \"arrowhead\": 0, \"arrowwidth\": 1}, \"colorscale\": {\"diverging\": [[0, \"#8e0152\"], [0.1, \"#c51b7d\"], [0.2, \"#de77ae\"], [0.3, \"#f1b6da\"], [0.4, \"#fde0ef\"], [0.5, \"#f7f7f7\"], [0.6, \"#e6f5d0\"], [0.7, \"#b8e186\"], [0.8, \"#7fbc41\"], [0.9, \"#4d9221\"], [1, \"#276419\"]], \"sequential\": [[0.0, \"#0d0887\"], [0.1111111111111111, \"#46039f\"], [0.2222222222222222, \"#7201a8\"], [0.3333333333333333, \"#9c179e\"], [0.4444444444444444, \"#bd3786\"], [0.5555555555555556, \"#d8576b\"], [0.6666666666666666, \"#ed7953\"], [0.7777777777777778, \"#fb9f3a\"], [0.8888888888888888, \"#fdca26\"], [1.0, \"#f0f921\"]], \"sequentialminus\": [[0.0, \"#0d0887\"], [0.1111111111111111, \"#46039f\"], [0.2222222222222222, \"#7201a8\"], [0.3333333333333333, \"#9c179e\"], [0.4444444444444444, \"#bd3786\"], [0.5555555555555556, \"#d8576b\"], [0.6666666666666666, \"#ed7953\"], [0.7777777777777778, \"#fb9f3a\"], [0.8888888888888888, \"#fdca26\"], [1.0, \"#f0f921\"]]}, \"colorway\": [\"#636efa\", \"#EF553B\", \"#00cc96\", \"#ab63fa\", \"#FFA15A\", \"#19d3f3\", \"#FF6692\", \"#B6E880\", \"#FF97FF\", \"#FECB52\"], \"font\": {\"color\": \"#2a3f5f\"}, \"geo\": {\"bgcolor\": \"white\", \"lakecolor\": \"white\", \"landcolor\": \"#E5ECF6\", \"showlakes\": true, \"showland\": true, \"subunitcolor\": \"white\"}, \"hoverlabel\": {\"align\": \"left\"}, \"hovermode\": \"closest\", \"mapbox\": {\"style\": \"light\"}, \"paper_bgcolor\": \"white\", \"plot_bgcolor\": \"#E5ECF6\", \"polar\": {\"angularaxis\": {\"gridcolor\": \"white\", \"linecolor\": \"white\", \"ticks\": \"\"}, \"bgcolor\": \"#E5ECF6\", \"radialaxis\": {\"gridcolor\": \"white\", \"linecolor\": \"white\", \"ticks\": \"\"}}, \"scene\": {\"xaxis\": {\"backgroundcolor\": \"#E5ECF6\", \"gridcolor\": \"white\", \"gridwidth\": 2, \"linecolor\": \"white\", \"showbackground\": true, \"ticks\": \"\", \"zerolinecolor\": \"white\"}, \"yaxis\": {\"backgroundcolor\": \"#E5ECF6\", \"gridcolor\": \"white\", \"gridwidth\": 2, \"linecolor\": \"white\", \"showbackground\": true, \"ticks\": \"\", \"zerolinecolor\": \"white\"}, \"zaxis\": {\"backgroundcolor\": \"#E5ECF6\", \"gridcolor\": \"white\", \"gridwidth\": 2, \"linecolor\": \"white\", \"showbackground\": true, \"ticks\": \"\", \"zerolinecolor\": \"white\"}}, \"shapedefaults\": {\"line\": {\"color\": \"#2a3f5f\"}}, \"ternary\": {\"aaxis\": {\"gridcolor\": \"white\", \"linecolor\": \"white\", \"ticks\": \"\"}, \"baxis\": {\"gridcolor\": \"white\", \"linecolor\": \"white\", \"ticks\": \"\"}, \"bgcolor\": \"#E5ECF6\", \"caxis\": {\"gridcolor\": \"white\", \"linecolor\": \"white\", \"ticks\": \"\"}}, \"title\": {\"x\": 0.05}, \"xaxis\": {\"automargin\": true, \"gridcolor\": \"white\", \"linecolor\": \"white\", \"ticks\": \"\", \"zerolinecolor\": \"white\", \"zerolinewidth\": 2}, \"yaxis\": {\"automargin\": true, \"gridcolor\": \"white\", \"linecolor\": \"white\", \"ticks\": \"\", \"zerolinecolor\": \"white\", \"zerolinewidth\": 2}}}, \"title\": {\"text\": \"Petal length and Petal Width of Species\"}, \"xaxis\": {\"ticklen\": 5, \"title\": {\"text\": \"Petal Length\"}, \"zeroline\": false}, \"yaxis\": {\"ticklen\": 5, \"title\": {\"text\": \"Petal Width\"}, \"zeroline\": false}},\n",
              "                        {\"responsive\": true}\n",
              "                    ).then(function(){\n",
              "                            \n",
              "var gd = document.getElementById('fbfc02d5-e996-4e7f-b238-22240480637d');\n",
              "var x = new MutationObserver(function (mutations, observer) {{\n",
              "        var display = window.getComputedStyle(gd).display;\n",
              "        if (!display || display === 'none') {{\n",
              "            console.log([gd, 'removed!']);\n",
              "            Plotly.purge(gd);\n",
              "            observer.disconnect();\n",
              "        }}\n",
              "}});\n",
              "\n",
              "// Listen for the removal of the full notebook cells\n",
              "var notebookContainer = gd.closest('#notebook-container');\n",
              "if (notebookContainer) {{\n",
              "    x.observe(notebookContainer, {childList: true});\n",
              "}}\n",
              "\n",
              "// Listen for the clearing of the current output cell\n",
              "var outputEl = gd.closest('.output');\n",
              "if (outputEl) {{\n",
              "    x.observe(outputEl, {childList: true});\n",
              "}}\n",
              "\n",
              "                        })\n",
              "                };\n",
              "                });\n",
              "            </script>\n",
              "        </div>"
            ],
            "application/vnd.plotly.v1+json": {
              "data": [
                {
                  "name": "iris-setosa",
                  "text": [
                    "iris-sesota",
                    "iris-sesota",
                    "iris-sesota",
                    "iris-sesota",
                    "iris-sesota",
                    "iris-sesota",
                    "iris-sesota",
                    "iris-sesota",
                    "iris-sesota",
                    "iris-sesota",
                    "iris-sesota",
                    "iris-sesota",
                    "iris-sesota",
                    "iris-sesota",
                    "iris-sesota",
                    "iris-sesota",
                    "iris-sesota",
                    "iris-sesota",
                    "iris-sesota",
                    "iris-sesota",
                    "iris-sesota",
                    "iris-sesota",
                    "iris-sesota",
                    "iris-sesota",
                    "iris-sesota",
                    "iris-sesota",
                    "iris-sesota",
                    "iris-sesota",
                    "iris-sesota",
                    "iris-sesota",
                    "iris-sesota",
                    "iris-sesota",
                    "iris-sesota",
                    "iris-sesota",
                    "iris-sesota",
                    "iris-sesota",
                    "iris-sesota",
                    "iris-sesota",
                    "iris-sesota",
                    "iris-sesota",
                    "iris-sesota",
                    "iris-sesota",
                    "iris-sesota",
                    "iris-sesota",
                    "iris-sesota",
                    "iris-sesota",
                    "iris-sesota",
                    "iris-sesota",
                    "iris-sesota",
                    "iris-sesota"
                  ],
                  "y": [
                    0.2,
                    0.2,
                    0.2,
                    0.2,
                    0.2,
                    0.4,
                    0.3,
                    0.2,
                    0.2,
                    0.1,
                    0.2,
                    0.2,
                    0.1,
                    0.1,
                    0.2,
                    0.4,
                    0.4,
                    0.3,
                    0.3,
                    0.3,
                    0.2,
                    0.4,
                    0.2,
                    0.5,
                    0.2,
                    0.2,
                    0.4,
                    0.2,
                    0.2,
                    0.2,
                    0.2,
                    0.4,
                    0.1,
                    0.2,
                    0.2,
                    0.2,
                    0.2,
                    0.1,
                    0.2,
                    0.2,
                    0.3,
                    0.3,
                    0.2,
                    0.6,
                    0.4,
                    0.3,
                    0.2,
                    0.2,
                    0.2,
                    0.2
                  ],
                  "mode": "markers",
                  "marker": {
                    "color": "rgba(255, 128, 2, 0.8)"
                  },
                  "x": [
                    1.4,
                    1.4,
                    1.3,
                    1.5,
                    1.4,
                    1.7,
                    1.4,
                    1.5,
                    1.4,
                    1.5,
                    1.5,
                    1.6,
                    1.4,
                    1.1,
                    1.2,
                    1.5,
                    1.3,
                    1.4,
                    1.7,
                    1.5,
                    1.7,
                    1.5,
                    1,
                    1.7,
                    1.9,
                    1.6,
                    1.6,
                    1.5,
                    1.4,
                    1.6,
                    1.6,
                    1.5,
                    1.5,
                    1.4,
                    1.5,
                    1.2,
                    1.3,
                    1.4,
                    1.3,
                    1.5,
                    1.3,
                    1.3,
                    1.3,
                    1.6,
                    1.9,
                    1.4,
                    1.6,
                    1.4,
                    1.5,
                    1.4
                  ],
                  "type": "scatter"
                },
                {
                  "name": "iris-versicolor",
                  "text": [
                    "iris-versicolor",
                    "iris-versicolor",
                    "iris-versicolor",
                    "iris-versicolor",
                    "iris-versicolor",
                    "iris-versicolor",
                    "iris-versicolor",
                    "iris-versicolor",
                    "iris-versicolor",
                    "iris-versicolor",
                    "iris-versicolor",
                    "iris-versicolor",
                    "iris-versicolor",
                    "iris-versicolor",
                    "iris-versicolor",
                    "iris-versicolor",
                    "iris-versicolor",
                    "iris-versicolor",
                    "iris-versicolor",
                    "iris-versicolor",
                    "iris-versicolor",
                    "iris-versicolor",
                    "iris-versicolor",
                    "iris-versicolor",
                    "iris-versicolor",
                    "iris-versicolor",
                    "iris-versicolor",
                    "iris-versicolor",
                    "iris-versicolor",
                    "iris-versicolor",
                    "iris-versicolor",
                    "iris-versicolor",
                    "iris-versicolor",
                    "iris-versicolor",
                    "iris-versicolor",
                    "iris-versicolor",
                    "iris-versicolor",
                    "iris-versicolor",
                    "iris-versicolor",
                    "iris-versicolor",
                    "iris-versicolor",
                    "iris-versicolor",
                    "iris-versicolor",
                    "iris-versicolor",
                    "iris-versicolor",
                    "iris-versicolor",
                    "iris-versicolor",
                    "iris-versicolor",
                    "iris-versicolor",
                    "iris-versicolor"
                  ],
                  "y": [
                    1.4,
                    1.5,
                    1.5,
                    1.3,
                    1.5,
                    1.3,
                    1.6,
                    1,
                    1.3,
                    1.4,
                    1,
                    1.5,
                    1,
                    1.4,
                    1.3,
                    1.4,
                    1.5,
                    1,
                    1.5,
                    1.1,
                    1.8,
                    1.3,
                    1.5,
                    1.2,
                    1.3,
                    1.4,
                    1.4,
                    1.7,
                    1.5,
                    1,
                    1.1,
                    1,
                    1.2,
                    1.6,
                    1.5,
                    1.6,
                    1.5,
                    1.3,
                    1.3,
                    1.3,
                    1.2,
                    1.4,
                    1.2,
                    1,
                    1.3,
                    1.2,
                    1.3,
                    1.3,
                    1.1,
                    1.3
                  ],
                  "mode": "markers",
                  "marker": {
                    "color": "rgba(0, 255, 200, 0.8)"
                  },
                  "x": [
                    4.7,
                    4.5,
                    4.9,
                    4,
                    4.6,
                    4.5,
                    4.7,
                    3.3,
                    4.6,
                    3.9,
                    3.5,
                    4.2,
                    4,
                    4.7,
                    3.6,
                    4.4,
                    4.5,
                    4.1,
                    4.5,
                    3.9,
                    4.8,
                    4,
                    4.9,
                    4.7,
                    4.3,
                    4.4,
                    4.8,
                    5,
                    4.5,
                    3.5,
                    3.8,
                    3.7,
                    3.9,
                    5.1,
                    4.5,
                    4.5,
                    4.7,
                    4.4,
                    4.1,
                    4,
                    4.4,
                    4.6,
                    4,
                    3.3,
                    4.2,
                    4.2,
                    4.2,
                    4.3,
                    3,
                    4.1
                  ],
                  "type": "scatter"
                },
                {
                  "name": "iris-virginica",
                  "text": [
                    "iris-virginica",
                    "iris-virginica",
                    "iris-virginica",
                    "iris-virginica",
                    "iris-virginica",
                    "iris-virginica",
                    "iris-virginica",
                    "iris-virginica",
                    "iris-virginica",
                    "iris-virginica",
                    "iris-virginica",
                    "iris-virginica",
                    "iris-virginica",
                    "iris-virginica",
                    "iris-virginica",
                    "iris-virginica",
                    "iris-virginica",
                    "iris-virginica",
                    "iris-virginica",
                    "iris-virginica",
                    "iris-virginica",
                    "iris-virginica",
                    "iris-virginica",
                    "iris-virginica",
                    "iris-virginica",
                    "iris-virginica",
                    "iris-virginica",
                    "iris-virginica",
                    "iris-virginica",
                    "iris-virginica",
                    "iris-virginica",
                    "iris-virginica",
                    "iris-virginica",
                    "iris-virginica",
                    "iris-virginica",
                    "iris-virginica",
                    "iris-virginica",
                    "iris-virginica",
                    "iris-virginica",
                    "iris-virginica",
                    "iris-virginica",
                    "iris-virginica",
                    "iris-virginica",
                    "iris-virginica",
                    "iris-virginica",
                    "iris-virginica",
                    "iris-virginica",
                    "iris-virginica",
                    "iris-virginica",
                    "iris-virginica"
                  ],
                  "y": [
                    2.5,
                    1.9,
                    2.1,
                    1.8,
                    2.2,
                    2.1,
                    1.7,
                    1.8,
                    1.8,
                    2.5,
                    2,
                    1.9,
                    2.1,
                    2,
                    2.4,
                    2.3,
                    1.8,
                    2.2,
                    2.3,
                    1.5,
                    2.3,
                    2,
                    2,
                    1.8,
                    2.1,
                    1.8,
                    1.8,
                    1.8,
                    2.1,
                    1.6,
                    1.9,
                    2,
                    2.2,
                    1.5,
                    1.4,
                    2.3,
                    2.4,
                    1.8,
                    1.8,
                    2.1,
                    2.4,
                    2.3,
                    1.9,
                    2.3,
                    2.5,
                    2.3,
                    1.9,
                    2,
                    2.3,
                    1.8
                  ],
                  "mode": "markers",
                  "marker": {
                    "color": "rgba(255, 128, 255, 0.8)"
                  },
                  "x": [
                    6,
                    5.1,
                    5.9,
                    5.6,
                    5.8,
                    6.6,
                    4.5,
                    6.3,
                    5.8,
                    6.1,
                    5.1,
                    5.3,
                    5.5,
                    5,
                    5.1,
                    5.3,
                    5.5,
                    6.7,
                    6.9,
                    5,
                    5.7,
                    4.9,
                    6.7,
                    4.9,
                    5.7,
                    6,
                    4.8,
                    4.9,
                    5.6,
                    5.8,
                    6.1,
                    6.4,
                    5.6,
                    5.1,
                    5.6,
                    6.1,
                    5.6,
                    5.5,
                    4.8,
                    5.4,
                    5.6,
                    5.1,
                    5.1,
                    5.9,
                    5.7,
                    5.2,
                    5,
                    5.2,
                    5.4,
                    5.1
                  ],
                  "type": "scatter"
                }
              ],
              "config": {
                "plotlyServerURL": "https://plot.ly",
                "linkText": "Export to plot.ly",
                "showLink": false
              },
              "layout": {
                "yaxis": {
                  "zeroline": false,
                  "ticklen": 5,
                  "title": {
                    "text": "Petal Width"
                  }
                },
                "xaxis": {
                  "zeroline": false,
                  "ticklen": 5,
                  "title": {
                    "text": "Petal Length"
                  }
                },
                "template": {
                  "layout": {
                    "shapedefaults": {
                      "line": {
                        "color": "#2a3f5f"
                      }
                    },
                    "polar": {
                      "radialaxis": {
                        "ticks": "",
                        "gridcolor": "white",
                        "linecolor": "white"
                      },
                      "bgcolor": "#E5ECF6",
                      "angularaxis": {
                        "ticks": "",
                        "gridcolor": "white",
                        "linecolor": "white"
                      }
                    },
                    "colorway": [
                      "#636efa",
                      "#EF553B",
                      "#00cc96",
                      "#ab63fa",
                      "#FFA15A",
                      "#19d3f3",
                      "#FF6692",
                      "#B6E880",
                      "#FF97FF",
                      "#FECB52"
                    ],
                    "xaxis": {
                      "automargin": true,
                      "zerolinewidth": 2,
                      "ticks": "",
                      "zerolinecolor": "white",
                      "gridcolor": "white",
                      "linecolor": "white"
                    },
                    "colorscale": {
                      "diverging": [
                        [
                          0,
                          "#8e0152"
                        ],
                        [
                          0.1,
                          "#c51b7d"
                        ],
                        [
                          0.2,
                          "#de77ae"
                        ],
                        [
                          0.3,
                          "#f1b6da"
                        ],
                        [
                          0.4,
                          "#fde0ef"
                        ],
                        [
                          0.5,
                          "#f7f7f7"
                        ],
                        [
                          0.6,
                          "#e6f5d0"
                        ],
                        [
                          0.7,
                          "#b8e186"
                        ],
                        [
                          0.8,
                          "#7fbc41"
                        ],
                        [
                          0.9,
                          "#4d9221"
                        ],
                        [
                          1,
                          "#276419"
                        ]
                      ],
                      "sequential": [
                        [
                          0,
                          "#0d0887"
                        ],
                        [
                          0.1111111111111111,
                          "#46039f"
                        ],
                        [
                          0.2222222222222222,
                          "#7201a8"
                        ],
                        [
                          0.3333333333333333,
                          "#9c179e"
                        ],
                        [
                          0.4444444444444444,
                          "#bd3786"
                        ],
                        [
                          0.5555555555555556,
                          "#d8576b"
                        ],
                        [
                          0.6666666666666666,
                          "#ed7953"
                        ],
                        [
                          0.7777777777777778,
                          "#fb9f3a"
                        ],
                        [
                          0.8888888888888888,
                          "#fdca26"
                        ],
                        [
                          1,
                          "#f0f921"
                        ]
                      ],
                      "sequentialminus": [
                        [
                          0,
                          "#0d0887"
                        ],
                        [
                          0.1111111111111111,
                          "#46039f"
                        ],
                        [
                          0.2222222222222222,
                          "#7201a8"
                        ],
                        [
                          0.3333333333333333,
                          "#9c179e"
                        ],
                        [
                          0.4444444444444444,
                          "#bd3786"
                        ],
                        [
                          0.5555555555555556,
                          "#d8576b"
                        ],
                        [
                          0.6666666666666666,
                          "#ed7953"
                        ],
                        [
                          0.7777777777777778,
                          "#fb9f3a"
                        ],
                        [
                          0.8888888888888888,
                          "#fdca26"
                        ],
                        [
                          1,
                          "#f0f921"
                        ]
                      ]
                    },
                    "paper_bgcolor": "white",
                    "plot_bgcolor": "#E5ECF6",
                    "title": {
                      "x": 0.05
                    },
                    "scene": {
                      "zaxis": {
                        "backgroundcolor": "#E5ECF6",
                        "ticks": "",
                        "gridwidth": 2,
                        "showbackground": true,
                        "zerolinecolor": "white",
                        "gridcolor": "white",
                        "linecolor": "white"
                      },
                      "xaxis": {
                        "backgroundcolor": "#E5ECF6",
                        "ticks": "",
                        "gridwidth": 2,
                        "showbackground": true,
                        "zerolinecolor": "white",
                        "gridcolor": "white",
                        "linecolor": "white"
                      },
                      "yaxis": {
                        "backgroundcolor": "#E5ECF6",
                        "ticks": "",
                        "gridwidth": 2,
                        "showbackground": true,
                        "zerolinecolor": "white",
                        "gridcolor": "white",
                        "linecolor": "white"
                      }
                    },
                    "yaxis": {
                      "automargin": true,
                      "zerolinewidth": 2,
                      "ticks": "",
                      "zerolinecolor": "white",
                      "gridcolor": "white",
                      "linecolor": "white"
                    },
                    "hoverlabel": {
                      "align": "left"
                    },
                    "ternary": {
                      "bgcolor": "#E5ECF6",
                      "baxis": {
                        "ticks": "",
                        "gridcolor": "white",
                        "linecolor": "white"
                      },
                      "caxis": {
                        "ticks": "",
                        "gridcolor": "white",
                        "linecolor": "white"
                      },
                      "aaxis": {
                        "ticks": "",
                        "gridcolor": "white",
                        "linecolor": "white"
                      }
                    },
                    "mapbox": {
                      "style": "light"
                    },
                    "hovermode": "closest",
                    "font": {
                      "color": "#2a3f5f"
                    },
                    "geo": {
                      "showland": true,
                      "landcolor": "#E5ECF6",
                      "showlakes": true,
                      "bgcolor": "white",
                      "subunitcolor": "white",
                      "lakecolor": "white"
                    },
                    "annotationdefaults": {
                      "arrowwidth": 1,
                      "arrowhead": 0,
                      "arrowcolor": "#2a3f5f"
                    }
                  },
                  "data": {
                    "mesh3d": [
                      {
                        "colorbar": {
                          "outlinewidth": 0,
                          "ticks": ""
                        },
                        "type": "mesh3d"
                      }
                    ],
                    "scattercarpet": [
                      {
                        "marker": {
                          "colorbar": {
                            "outlinewidth": 0,
                            "ticks": ""
                          }
                        },
                        "type": "scattercarpet"
                      }
                    ],
                    "scatterternary": [
                      {
                        "marker": {
                          "colorbar": {
                            "outlinewidth": 0,
                            "ticks": ""
                          }
                        },
                        "type": "scatterternary"
                      }
                    ],
                    "surface": [
                      {
                        "colorbar": {
                          "outlinewidth": 0,
                          "ticks": ""
                        },
                        "type": "surface",
                        "colorscale": [
                          [
                            0,
                            "#0d0887"
                          ],
                          [
                            0.1111111111111111,
                            "#46039f"
                          ],
                          [
                            0.2222222222222222,
                            "#7201a8"
                          ],
                          [
                            0.3333333333333333,
                            "#9c179e"
                          ],
                          [
                            0.4444444444444444,
                            "#bd3786"
                          ],
                          [
                            0.5555555555555556,
                            "#d8576b"
                          ],
                          [
                            0.6666666666666666,
                            "#ed7953"
                          ],
                          [
                            0.7777777777777778,
                            "#fb9f3a"
                          ],
                          [
                            0.8888888888888888,
                            "#fdca26"
                          ],
                          [
                            1,
                            "#f0f921"
                          ]
                        ]
                      }
                    ],
                    "table": [
                      {
                        "header": {
                          "line": {
                            "color": "white"
                          },
                          "fill": {
                            "color": "#C8D4E3"
                          }
                        },
                        "cells": {
                          "line": {
                            "color": "white"
                          },
                          "fill": {
                            "color": "#EBF0F8"
                          }
                        },
                        "type": "table"
                      }
                    ],
                    "scatterpolargl": [
                      {
                        "marker": {
                          "colorbar": {
                            "outlinewidth": 0,
                            "ticks": ""
                          }
                        },
                        "type": "scatterpolargl"
                      }
                    ],
                    "contour": [
                      {
                        "colorbar": {
                          "outlinewidth": 0,
                          "ticks": ""
                        },
                        "type": "contour",
                        "colorscale": [
                          [
                            0,
                            "#0d0887"
                          ],
                          [
                            0.1111111111111111,
                            "#46039f"
                          ],
                          [
                            0.2222222222222222,
                            "#7201a8"
                          ],
                          [
                            0.3333333333333333,
                            "#9c179e"
                          ],
                          [
                            0.4444444444444444,
                            "#bd3786"
                          ],
                          [
                            0.5555555555555556,
                            "#d8576b"
                          ],
                          [
                            0.6666666666666666,
                            "#ed7953"
                          ],
                          [
                            0.7777777777777778,
                            "#fb9f3a"
                          ],
                          [
                            0.8888888888888888,
                            "#fdca26"
                          ],
                          [
                            1,
                            "#f0f921"
                          ]
                        ]
                      }
                    ],
                    "carpet": [
                      {
                        "type": "carpet",
                        "baxis": {
                          "minorgridcolor": "white",
                          "gridcolor": "white",
                          "linecolor": "white",
                          "endlinecolor": "#2a3f5f",
                          "startlinecolor": "#2a3f5f"
                        },
                        "aaxis": {
                          "minorgridcolor": "white",
                          "gridcolor": "white",
                          "linecolor": "white",
                          "endlinecolor": "#2a3f5f",
                          "startlinecolor": "#2a3f5f"
                        }
                      }
                    ],
                    "contourcarpet": [
                      {
                        "colorbar": {
                          "outlinewidth": 0,
                          "ticks": ""
                        },
                        "type": "contourcarpet"
                      }
                    ],
                    "heatmap": [
                      {
                        "colorbar": {
                          "outlinewidth": 0,
                          "ticks": ""
                        },
                        "type": "heatmap",
                        "colorscale": [
                          [
                            0,
                            "#0d0887"
                          ],
                          [
                            0.1111111111111111,
                            "#46039f"
                          ],
                          [
                            0.2222222222222222,
                            "#7201a8"
                          ],
                          [
                            0.3333333333333333,
                            "#9c179e"
                          ],
                          [
                            0.4444444444444444,
                            "#bd3786"
                          ],
                          [
                            0.5555555555555556,
                            "#d8576b"
                          ],
                          [
                            0.6666666666666666,
                            "#ed7953"
                          ],
                          [
                            0.7777777777777778,
                            "#fb9f3a"
                          ],
                          [
                            0.8888888888888888,
                            "#fdca26"
                          ],
                          [
                            1,
                            "#f0f921"
                          ]
                        ]
                      }
                    ],
                    "scattermapbox": [
                      {
                        "marker": {
                          "colorbar": {
                            "outlinewidth": 0,
                            "ticks": ""
                          }
                        },
                        "type": "scattermapbox"
                      }
                    ],
                    "scatter3d": [
                      {
                        "marker": {
                          "colorbar": {
                            "outlinewidth": 0,
                            "ticks": ""
                          }
                        },
                        "line": {
                          "colorbar": {
                            "outlinewidth": 0,
                            "ticks": ""
                          }
                        },
                        "type": "scatter3d"
                      }
                    ],
                    "scattergl": [
                      {
                        "marker": {
                          "colorbar": {
                            "outlinewidth": 0,
                            "ticks": ""
                          }
                        },
                        "type": "scattergl"
                      }
                    ],
                    "histogram": [
                      {
                        "marker": {
                          "colorbar": {
                            "outlinewidth": 0,
                            "ticks": ""
                          }
                        },
                        "type": "histogram"
                      }
                    ],
                    "heatmapgl": [
                      {
                        "colorbar": {
                          "outlinewidth": 0,
                          "ticks": ""
                        },
                        "type": "heatmapgl",
                        "colorscale": [
                          [
                            0,
                            "#0d0887"
                          ],
                          [
                            0.1111111111111111,
                            "#46039f"
                          ],
                          [
                            0.2222222222222222,
                            "#7201a8"
                          ],
                          [
                            0.3333333333333333,
                            "#9c179e"
                          ],
                          [
                            0.4444444444444444,
                            "#bd3786"
                          ],
                          [
                            0.5555555555555556,
                            "#d8576b"
                          ],
                          [
                            0.6666666666666666,
                            "#ed7953"
                          ],
                          [
                            0.7777777777777778,
                            "#fb9f3a"
                          ],
                          [
                            0.8888888888888888,
                            "#fdca26"
                          ],
                          [
                            1,
                            "#f0f921"
                          ]
                        ]
                      }
                    ],
                    "scatterpolar": [
                      {
                        "marker": {
                          "colorbar": {
                            "outlinewidth": 0,
                            "ticks": ""
                          }
                        },
                        "type": "scatterpolar"
                      }
                    ],
                    "histogram2d": [
                      {
                        "colorbar": {
                          "outlinewidth": 0,
                          "ticks": ""
                        },
                        "type": "histogram2d",
                        "colorscale": [
                          [
                            0,
                            "#0d0887"
                          ],
                          [
                            0.1111111111111111,
                            "#46039f"
                          ],
                          [
                            0.2222222222222222,
                            "#7201a8"
                          ],
                          [
                            0.3333333333333333,
                            "#9c179e"
                          ],
                          [
                            0.4444444444444444,
                            "#bd3786"
                          ],
                          [
                            0.5555555555555556,
                            "#d8576b"
                          ],
                          [
                            0.6666666666666666,
                            "#ed7953"
                          ],
                          [
                            0.7777777777777778,
                            "#fb9f3a"
                          ],
                          [
                            0.8888888888888888,
                            "#fdca26"
                          ],
                          [
                            1,
                            "#f0f921"
                          ]
                        ]
                      }
                    ],
                    "scattergeo": [
                      {
                        "marker": {
                          "colorbar": {
                            "outlinewidth": 0,
                            "ticks": ""
                          }
                        },
                        "type": "scattergeo"
                      }
                    ],
                    "bar": [
                      {
                        "marker": {
                          "line": {
                            "color": "#E5ECF6",
                            "width": 0.5
                          }
                        },
                        "type": "bar",
                        "error_x": {
                          "color": "#2a3f5f"
                        },
                        "error_y": {
                          "color": "#2a3f5f"
                        }
                      }
                    ],
                    "choropleth": [
                      {
                        "colorbar": {
                          "outlinewidth": 0,
                          "ticks": ""
                        },
                        "type": "choropleth"
                      }
                    ],
                    "parcoords": [
                      {
                        "line": {
                          "colorbar": {
                            "outlinewidth": 0,
                            "ticks": ""
                          }
                        },
                        "type": "parcoords"
                      }
                    ],
                    "barpolar": [
                      {
                        "marker": {
                          "line": {
                            "color": "#E5ECF6",
                            "width": 0.5
                          }
                        },
                        "type": "barpolar"
                      }
                    ],
                    "histogram2dcontour": [
                      {
                        "colorbar": {
                          "outlinewidth": 0,
                          "ticks": ""
                        },
                        "type": "histogram2dcontour",
                        "colorscale": [
                          [
                            0,
                            "#0d0887"
                          ],
                          [
                            0.1111111111111111,
                            "#46039f"
                          ],
                          [
                            0.2222222222222222,
                            "#7201a8"
                          ],
                          [
                            0.3333333333333333,
                            "#9c179e"
                          ],
                          [
                            0.4444444444444444,
                            "#bd3786"
                          ],
                          [
                            0.5555555555555556,
                            "#d8576b"
                          ],
                          [
                            0.6666666666666666,
                            "#ed7953"
                          ],
                          [
                            0.7777777777777778,
                            "#fb9f3a"
                          ],
                          [
                            0.8888888888888888,
                            "#fdca26"
                          ],
                          [
                            1,
                            "#f0f921"
                          ]
                        ]
                      }
                    ],
                    "scatter": [
                      {
                        "marker": {
                          "colorbar": {
                            "outlinewidth": 0,
                            "ticks": ""
                          }
                        },
                        "type": "scatter"
                      }
                    ]
                  }
                },
                "title": {
                  "text": "Petal length and Petal Width of Species"
                }
              }
            }
          },
          "metadata": {
            "tags": []
          }
        }
      ]
    },
    {
      "cell_type": "markdown",
      "metadata": {
        "_uuid": "7e9c000b060288e17c099c46c47fef820c09f35e",
        "id": "jz11wSeujppa",
        "colab_type": "text"
      },
      "source": [
        "# Correlation among features"
      ]
    },
    {
      "cell_type": "code",
      "metadata": {
        "trusted": true,
        "_uuid": "d018a832759d041138c89c62f75ef07342bf7808",
        "id": "SIuPJOGGjppb",
        "colab_type": "code",
        "outputId": "8620dacd-0225-4d2e-ff35-695a45fef4cc",
        "colab": {
          "base_uri": "https://localhost:8080/",
          "height": 270
        }
      },
      "source": [
        "#the correlation matrix heatmap for analysing the correlation among features\n",
        "corr_martix=iris_df[cols].corr()\n",
        "sns.heatmap(corr_martix,cbar=True,annot=True,fmt='.1f',cmap='coolwarm');\n",
        "#we can see petal length and petal width ad correlated very highly and same can be said for sepal lenght and sepal width"
      ],
      "execution_count": 0,
      "outputs": [
        {
          "output_type": "display_data",
          "data": {
            "image/png": "[encoded data removed]",
            "text/plain": [
              "<Figure size 432x288 with 2 Axes>"
            ]
          },
          "metadata": {
            "tags": []
          }
        }
      ]
    },
    {
      "cell_type": "markdown",
      "metadata": {
        "_uuid": "874111f5c7ab8542e093f75257de8b68bfb59c01",
        "id": "nH1J_rtbjppg",
        "colab_type": "text"
      },
      "source": [
        "#  Writing and Visualising Our Own Decision Tress"
      ]
    },
    {
      "cell_type": "markdown",
      "metadata": {
        "_uuid": "6fbb04c76902254ca7e53bd0bcb587c6be3e85ea",
        "id": "P7IWe8w5jpph",
        "colab_type": "text"
      },
      "source": [
        ""
      ]
    },
    {
      "cell_type": "code",
      "metadata": {
        "trusted": true,
        "_uuid": "6ab263d2b3c4bbb22b0d4df353d0690e4cf296d5",
        "id": "VCQg6deUjppl",
        "colab_type": "code",
        "colab": {}
      },
      "source": [
        "class Question:\n",
        "    #initialise column and value variables->\n",
        "    #eg->if ques is ->is sepal_length>=1cm then\n",
        "    #sepal_length==col and 1cm=value\n",
        "    def __init__(self,column,value):\n",
        "        self.column=column\n",
        "        self.value=value\n",
        "    #it matches wheter the given data is in accordace with the value set or not\n",
        "    #returns true and false accordingly\n",
        "    def match(self,data):\n",
        "        value=data[self.column]\n",
        "        return value>=self.value\n",
        "    # This is just a helper method to print\n",
        "    # the question in a readable format.\n",
        "    def __repr__(self):\n",
        "        condition = \">=\"\n",
        "        return \"Is %s %s %s?\" % (\n",
        "            header[self.column], condition, str(self.value))"
      ],
      "execution_count": 0,
      "outputs": []
    },
    {
      "cell_type": "code",
      "metadata": {
        "trusted": true,
        "_uuid": "29942202dbf13afb6a5928a71a30b0876dcb790e",
        "id": "5hCJh2rcjppo",
        "colab_type": "code",
        "outputId": "8c8feca6-8e2b-46a7-9723-4dc8c1f27480",
        "colab": {
          "base_uri": "https://localhost:8080/",
          "height": 33
        }
      },
      "source": [
        "'demo of question class'\n",
        "#forming a question\n",
        "Question(0,5)\n",
        "## it takes column as 0 and value as 5 \n",
        "q=Question(0,5)\n",
        "#now it checks wheter the values on 0th column of the 4th datapoint is >= 5 or not\n",
        "#and returns true or false accordingly\n",
        "q.match(x[3])"
      ],
      "execution_count": 0,
      "outputs": [
        {
          "output_type": "execute_result",
          "data": {
            "text/plain": [
              "False"
            ]
          },
          "metadata": {
            "tags": []
          },
          "execution_count": 12
        }
      ]
    },
    {
      "cell_type": "code",
      "metadata": {
        "trusted": true,
        "_uuid": "3af25f4091c53cb9808704491f2651fb3f73bcc3",
        "id": "5CnWl37yjpps",
        "colab_type": "code",
        "colab": {}
      },
      "source": [
        "#count the unique values of labels and store them in a dictionary\n",
        "def count_values(rows):\n",
        "    #will return a dictionary with species values as key and frequency as values\n",
        "    count={}\n",
        "    #takes whole dataset in as argument\n",
        "    for row in  rows:\n",
        "        #traverse on each datapoint\n",
        "        label=row[-1]\n",
        "        #labels are in the last column\n",
        "        #if label is not even once come initialise it\n",
        "        if label not in count:\n",
        "            count[label]=0\n",
        "        #increase the count of present label by 1\n",
        "        count[label]+=1\n",
        "    return count "
      ],
      "execution_count": 0,
      "outputs": []
    },
    {
      "cell_type": "code",
      "metadata": {
        "trusted": true,
        "_uuid": "c6c426de8503455faec458f6bc6b48afdc00b6b8",
        "id": "IF6rHpbCjppw",
        "colab_type": "code",
        "outputId": "819fd188-d3c8-4ff2-f9c0-1d4b0f046273",
        "colab": {
          "base_uri": "https://localhost:8080/",
          "height": 33
        }
      },
      "source": [
        "'''demo count function'''\n",
        "count_values(data)\n"
      ],
      "execution_count": 0,
      "outputs": [
        {
          "output_type": "execute_result",
          "data": {
            "text/plain": [
              "{0.0: 50, 1.0: 50, 2.0: 50}"
            ]
          },
          "metadata": {
            "tags": []
          },
          "execution_count": 14
        }
      ]
    },
    {
      "cell_type": "code",
      "metadata": {
        "trusted": true,
        "_uuid": "68a91f22864a16f97f0b39edc2147d33ecc76c1c",
        "id": "P_xJOO0Ljppz",
        "colab_type": "code",
        "colab": {}
      },
      "source": [
        "#spliting the data based on the respective ques.\n",
        "def partition(rows,question):\n",
        "    #intialise two seprate lists \n",
        "    true_row,false_row=[],[]\n",
        "    for row in rows:\n",
        "        #traverse on each datapoint\n",
        "        #match the given datapoint with the respective question\n",
        "        if question.match(row):\n",
        "            #if question.match returns true aka value is satisfied\n",
        "            #append the given row in true row list\n",
        "            true_row.append(row)\n",
        "        else:\n",
        "            false_row.append(row)\n",
        "    return true_row,false_row"
      ],
      "execution_count": 0,
      "outputs": []
    },
    {
      "cell_type": "code",
      "metadata": {
        "scrolled": true,
        "trusted": true,
        "_uuid": "67c4321289b2bb5fd1306a779685dcb98ff0dc0b",
        "id": "HkListpBjpp6",
        "colab_type": "code",
        "outputId": "a43bd431-c14b-4529-8957-77a7c3374df3",
        "colab": {
          "base_uri": "https://localhost:8080/",
          "height": 1000
        }
      },
      "source": [
        "#demo of partition function\n",
        "#our question is ->\n",
        "print(Question(0,5))\n",
        "#t_r represents true_rows and f_r false_rows\n",
        "t_r,f_r=partition(data,Question(0,5))\n",
        "#thus t_r will only contain sepal legnth values > 5cm\n",
        "t_r"
      ],
      "execution_count": 0,
      "outputs": [
        {
          "output_type": "stream",
          "text": [
            "Is sepal_length >= 5?\n"
          ],
          "name": "stdout"
        },
        {
          "output_type": "execute_result",
          "data": {
            "text/plain": [
              "[array([5.1, 3.5, 1.4, 0.2, 0. ]),\n",
              " array([5. , 3.6, 1.4, 0.2, 0. ]),\n",
              " array([5.4, 3.9, 1.7, 0.4, 0. ]),\n",
              " array([5. , 3.4, 1.5, 0.2, 0. ]),\n",
              " array([5.4, 3.7, 1.5, 0.2, 0. ]),\n",
              " array([5.8, 4. , 1.2, 0.2, 0. ]),\n",
              " array([5.7, 4.4, 1.5, 0.4, 0. ]),\n",
              " array([5.4, 3.9, 1.3, 0.4, 0. ]),\n",
              " array([5.1, 3.5, 1.4, 0.3, 0. ]),\n",
              " array([5.7, 3.8, 1.7, 0.3, 0. ]),\n",
              " array([5.1, 3.8, 1.5, 0.3, 0. ]),\n",
              " array([5.4, 3.4, 1.7, 0.2, 0. ]),\n",
              " array([5.1, 3.7, 1.5, 0.4, 0. ]),\n",
              " array([5.1, 3.3, 1.7, 0.5, 0. ]),\n",
              " array([5. , 3. , 1.6, 0.2, 0. ]),\n",
              " array([5. , 3.4, 1.6, 0.4, 0. ]),\n",
              " array([5.2, 3.5, 1.5, 0.2, 0. ]),\n",
              " array([5.2, 3.4, 1.4, 0.2, 0. ]),\n",
              " array([5.4, 3.4, 1.5, 0.4, 0. ]),\n",
              " array([5.2, 4.1, 1.5, 0.1, 0. ]),\n",
              " array([5.5, 4.2, 1.4, 0.2, 0. ]),\n",
              " array([5. , 3.2, 1.2, 0.2, 0. ]),\n",
              " array([5.5, 3.5, 1.3, 0.2, 0. ]),\n",
              " array([5.1, 3.4, 1.5, 0.2, 0. ]),\n",
              " array([5. , 3.5, 1.3, 0.3, 0. ]),\n",
              " array([5. , 3.5, 1.6, 0.6, 0. ]),\n",
              " array([5.1, 3.8, 1.9, 0.4, 0. ]),\n",
              " array([5.1, 3.8, 1.6, 0.2, 0. ]),\n",
              " array([5.3, 3.7, 1.5, 0.2, 0. ]),\n",
              " array([5. , 3.3, 1.4, 0.2, 0. ]),\n",
              " array([7. , 3.2, 4.7, 1.4, 1. ]),\n",
              " array([6.4, 3.2, 4.5, 1.5, 1. ]),\n",
              " array([6.9, 3.1, 4.9, 1.5, 1. ]),\n",
              " array([5.5, 2.3, 4. , 1.3, 1. ]),\n",
              " array([6.5, 2.8, 4.6, 1.5, 1. ]),\n",
              " array([5.7, 2.8, 4.5, 1.3, 1. ]),\n",
              " array([6.3, 3.3, 4.7, 1.6, 1. ]),\n",
              " array([6.6, 2.9, 4.6, 1.3, 1. ]),\n",
              " array([5.2, 2.7, 3.9, 1.4, 1. ]),\n",
              " array([5. , 2. , 3.5, 1. , 1. ]),\n",
              " array([5.9, 3. , 4.2, 1.5, 1. ]),\n",
              " array([6. , 2.2, 4. , 1. , 1. ]),\n",
              " array([6.1, 2.9, 4.7, 1.4, 1. ]),\n",
              " array([5.6, 2.9, 3.6, 1.3, 1. ]),\n",
              " array([6.7, 3.1, 4.4, 1.4, 1. ]),\n",
              " array([5.6, 3. , 4.5, 1.5, 1. ]),\n",
              " array([5.8, 2.7, 4.1, 1. , 1. ]),\n",
              " array([6.2, 2.2, 4.5, 1.5, 1. ]),\n",
              " array([5.6, 2.5, 3.9, 1.1, 1. ]),\n",
              " array([5.9, 3.2, 4.8, 1.8, 1. ]),\n",
              " array([6.1, 2.8, 4. , 1.3, 1. ]),\n",
              " array([6.3, 2.5, 4.9, 1.5, 1. ]),\n",
              " array([6.1, 2.8, 4.7, 1.2, 1. ]),\n",
              " array([6.4, 2.9, 4.3, 1.3, 1. ]),\n",
              " array([6.6, 3. , 4.4, 1.4, 1. ]),\n",
              " array([6.8, 2.8, 4.8, 1.4, 1. ]),\n",
              " array([6.7, 3. , 5. , 1.7, 1. ]),\n",
              " array([6. , 2.9, 4.5, 1.5, 1. ]),\n",
              " array([5.7, 2.6, 3.5, 1. , 1. ]),\n",
              " array([5.5, 2.4, 3.8, 1.1, 1. ]),\n",
              " array([5.5, 2.4, 3.7, 1. , 1. ]),\n",
              " array([5.8, 2.7, 3.9, 1.2, 1. ]),\n",
              " array([6. , 2.7, 5.1, 1.6, 1. ]),\n",
              " array([5.4, 3. , 4.5, 1.5, 1. ]),\n",
              " array([6. , 3.4, 4.5, 1.6, 1. ]),\n",
              " array([6.7, 3.1, 4.7, 1.5, 1. ]),\n",
              " array([6.3, 2.3, 4.4, 1.3, 1. ]),\n",
              " array([5.6, 3. , 4.1, 1.3, 1. ]),\n",
              " array([5.5, 2.5, 4. , 1.3, 1. ]),\n",
              " array([5.5, 2.6, 4.4, 1.2, 1. ]),\n",
              " array([6.1, 3. , 4.6, 1.4, 1. ]),\n",
              " array([5.8, 2.6, 4. , 1.2, 1. ]),\n",
              " array([5. , 2.3, 3.3, 1. , 1. ]),\n",
              " array([5.6, 2.7, 4.2, 1.3, 1. ]),\n",
              " array([5.7, 3. , 4.2, 1.2, 1. ]),\n",
              " array([5.7, 2.9, 4.2, 1.3, 1. ]),\n",
              " array([6.2, 2.9, 4.3, 1.3, 1. ]),\n",
              " array([5.1, 2.5, 3. , 1.1, 1. ]),\n",
              " array([5.7, 2.8, 4.1, 1.3, 1. ]),\n",
              " array([6.3, 3.3, 6. , 2.5, 2. ]),\n",
              " array([5.8, 2.7, 5.1, 1.9, 2. ]),\n",
              " array([7.1, 3. , 5.9, 2.1, 2. ]),\n",
              " array([6.3, 2.9, 5.6, 1.8, 2. ]),\n",
              " array([6.5, 3. , 5.8, 2.2, 2. ]),\n",
              " array([7.6, 3. , 6.6, 2.1, 2. ]),\n",
              " array([7.3, 2.9, 6.3, 1.8, 2. ]),\n",
              " array([6.7, 2.5, 5.8, 1.8, 2. ]),\n",
              " array([7.2, 3.6, 6.1, 2.5, 2. ]),\n",
              " array([6.5, 3.2, 5.1, 2. , 2. ]),\n",
              " array([6.4, 2.7, 5.3, 1.9, 2. ]),\n",
              " array([6.8, 3. , 5.5, 2.1, 2. ]),\n",
              " array([5.7, 2.5, 5. , 2. , 2. ]),\n",
              " array([5.8, 2.8, 5.1, 2.4, 2. ]),\n",
              " array([6.4, 3.2, 5.3, 2.3, 2. ]),\n",
              " array([6.5, 3. , 5.5, 1.8, 2. ]),\n",
              " array([7.7, 3.8, 6.7, 2.2, 2. ]),\n",
              " array([7.7, 2.6, 6.9, 2.3, 2. ]),\n",
              " array([6. , 2.2, 5. , 1.5, 2. ]),\n",
              " array([6.9, 3.2, 5.7, 2.3, 2. ]),\n",
              " array([5.6, 2.8, 4.9, 2. , 2. ]),\n",
              " array([7.7, 2.8, 6.7, 2. , 2. ]),\n",
              " array([6.3, 2.7, 4.9, 1.8, 2. ]),\n",
              " array([6.7, 3.3, 5.7, 2.1, 2. ]),\n",
              " array([7.2, 3.2, 6. , 1.8, 2. ]),\n",
              " array([6.2, 2.8, 4.8, 1.8, 2. ]),\n",
              " array([6.1, 3. , 4.9, 1.8, 2. ]),\n",
              " array([6.4, 2.8, 5.6, 2.1, 2. ]),\n",
              " array([7.2, 3. , 5.8, 1.6, 2. ]),\n",
              " array([7.4, 2.8, 6.1, 1.9, 2. ]),\n",
              " array([7.9, 3.8, 6.4, 2. , 2. ]),\n",
              " array([6.4, 2.8, 5.6, 2.2, 2. ]),\n",
              " array([6.3, 2.8, 5.1, 1.5, 2. ]),\n",
              " array([6.1, 2.6, 5.6, 1.4, 2. ]),\n",
              " array([7.7, 3. , 6.1, 2.3, 2. ]),\n",
              " array([6.3, 3.4, 5.6, 2.4, 2. ]),\n",
              " array([6.4, 3.1, 5.5, 1.8, 2. ]),\n",
              " array([6. , 3. , 4.8, 1.8, 2. ]),\n",
              " array([6.9, 3.1, 5.4, 2.1, 2. ]),\n",
              " array([6.7, 3.1, 5.6, 2.4, 2. ]),\n",
              " array([6.9, 3.1, 5.1, 2.3, 2. ]),\n",
              " array([5.8, 2.7, 5.1, 1.9, 2. ]),\n",
              " array([6.8, 3.2, 5.9, 2.3, 2. ]),\n",
              " array([6.7, 3.3, 5.7, 2.5, 2. ]),\n",
              " array([6.7, 3. , 5.2, 2.3, 2. ]),\n",
              " array([6.3, 2.5, 5. , 1.9, 2. ]),\n",
              " array([6.5, 3. , 5.2, 2. , 2. ]),\n",
              " array([6.2, 3.4, 5.4, 2.3, 2. ]),\n",
              " array([5.9, 3. , 5.1, 1.8, 2. ])]"
            ]
          },
          "metadata": {
            "tags": []
          },
          "execution_count": 17
        }
      ]
    },
    {
      "cell_type": "markdown",
      "metadata": {
        "_uuid": "3295d0acd2d12cb22021eab342034a01fa177b9e",
        "id": "brLfx0xDjpqB",
        "colab_type": "text"
      },
      "source": [
        "# Gini Impurity"
      ]
    },
    {
      "cell_type": "code",
      "metadata": {
        "trusted": true,
        "_uuid": "102fbf854e430ca14b64fc2e12563500de88d8af",
        "id": "su69doOjjpqC",
        "colab_type": "code",
        "colab": {}
      },
      "source": [
        "#gini impurity is defined as a measure of misclassification\n",
        "#for eg is the data is pure(1 class only)\n",
        "#then gini impurity=0"
      ],
      "execution_count": 0,
      "outputs": []
    },
    {
      "cell_type": "code",
      "metadata": {
        "trusted": true,
        "_uuid": "510fc4f3bfea58c0cdcfae71bb76af7ca088f251",
        "id": "Ua3mI-OMjpqE",
        "colab_type": "code",
        "colab": {}
      },
      "source": [
        "def gini(rows):\n",
        "    #stores dictionary of frequency of labels\n",
        "    count=count_values(rows)\n",
        "    #initialise impurity as 1\n",
        "    impurity=1\n",
        "    for label in count:\n",
        "        #probablity of a unique label\n",
        "        probab_of_label=count[label]/float(len(rows))\n",
        "        #calculation gini impurity acc to formula\n",
        "        impurity-=probab_of_label**2\n",
        "    return impurity"
      ],
      "execution_count": 0,
      "outputs": []
    },
    {
      "cell_type": "code",
      "metadata": {
        "trusted": true,
        "_uuid": "17227f8606909c1a94e1591e610661e8e1f90757",
        "id": "ltt_Oh58jpqI",
        "colab_type": "code",
        "outputId": "180bdc5a-8d1f-4564-ce16-a47c94ad598d",
        "colab": {
          "base_uri": "https://localhost:8080/",
          "height": 33
        }
      },
      "source": [
        "'demo gini impurity'\n",
        "gini(data)\n",
        "#as 0-50,1-50,2-50 in our data currently it calulates gini impurity\n",
        "#based on that"
      ],
      "execution_count": 0,
      "outputs": [
        {
          "output_type": "execute_result",
          "data": {
            "text/plain": [
              "0.6666666666666665"
            ]
          },
          "metadata": {
            "tags": []
          },
          "execution_count": 20
        }
      ]
    },
    {
      "cell_type": "code",
      "metadata": {
        "trusted": true,
        "_uuid": "b6b3fc209cc9fef45c275e962af0325234eb945b",
        "id": "afOjKVdHjpqK",
        "colab_type": "code",
        "colab": {}
      },
      "source": [
        "#entropy is the sum of -p(x)log(p(x)) across all\n",
        "#the diffrent possible results"
      ],
      "execution_count": 0,
      "outputs": []
    },
    {
      "cell_type": "code",
      "metadata": {
        "trusted": true,
        "_uuid": "981b5f72e165acf21d59deee3114d53941741b50",
        "id": "tfgBzN8mjpqN",
        "colab_type": "code",
        "colab": {}
      },
      "source": [
        "#entropy is basically a measure of chaos-randomness\n",
        "def entropy(rows):\n",
        "    #initialise entropy\n",
        "    entropy=0\n",
        "    from math import log\n",
        "    #calculating log(x) in base 2\n",
        "    log2=lambda x:log(x)/log(2)\n",
        "    count=count_values(rows)\n",
        "    #storing and traversing the dictionary\n",
        "    for label in count:\n",
        "        #probablity of each unique label\n",
        "        p=count[label]/float(len(rows))\n",
        "        #calculating entropy\n",
        "        entropy-=p*log2(p)\n",
        "    return entropy"
      ],
      "execution_count": 0,
      "outputs": []
    },
    {
      "cell_type": "code",
      "metadata": {
        "trusted": true,
        "_uuid": "e2796570eb07ab1f02021891102464d17d18d615",
        "id": "p2vyaWddjpqP",
        "colab_type": "code",
        "outputId": "f54a3bc9-5eec-46d1-a071-760be990e8b2",
        "colab": {
          "base_uri": "https://localhost:8080/",
          "height": 33
        }
      },
      "source": [
        "'demo entropy'\n",
        "entropy(data)"
      ],
      "execution_count": 0,
      "outputs": [
        {
          "output_type": "execute_result",
          "data": {
            "text/plain": [
              "1.584962500721156"
            ]
          },
          "metadata": {
            "tags": []
          },
          "execution_count": 23
        }
      ]
    },
    {
      "cell_type": "code",
      "metadata": {
        "trusted": true,
        "_uuid": "c33cf8838be8202d8451036dfe4509684b8594a4",
        "id": "QE9_3FXAjpqU",
        "colab_type": "code",
        "colab": {}
      },
      "source": [
        "#weighted info gain\n",
        "def info_gain_gini(current,left,right):\n",
        "    #porbab of one branch\n",
        "    p =float(len(left))/len(left)+len(right)\n",
        "    #formula for info gian\n",
        "    return current-p*gini(left)-(1-p)*gini(right)"
      ],
      "execution_count": 0,
      "outputs": []
    },
    {
      "cell_type": "code",
      "metadata": {
        "trusted": true,
        "_uuid": "bd1ea7712407b7f3142ca7523276a9f103c082a4",
        "id": "kt25G3yTjpqW",
        "colab_type": "code",
        "colab": {}
      },
      "source": [
        "#weighted info gain\n",
        "def info_gain_entropy(current,left,right):\n",
        "    p =float(len(left))/len(left)+len(right)\n",
        "    return current-p*entropy(left)-(1-p)*entropy(right)"
      ],
      "execution_count": 0,
      "outputs": []
    },
    {
      "cell_type": "markdown",
      "metadata": {
        "_uuid": "eeac5ce93bdc15efd165e2b125fc064e8774ddc6",
        "id": "v_blAdgdjpqa",
        "colab_type": "text"
      },
      "source": [
        "# Best Split"
      ]
    },
    {
      "cell_type": "code",
      "metadata": {
        "trusted": true,
        "_uuid": "ed87088b2b290b5cdf236c852b76d1be25a1dfbf",
        "id": "_9X7uywXjpqa",
        "colab_type": "code",
        "colab": {}
      },
      "source": [
        "#this is one of the most important function  as it lets\n",
        "#us decide given the current data what is the best feature and feature value to split upon\n",
        "#i.e it decides both wheter to split on petal length and what should be the petal length value (6.9cm) that we should split upon"
      ],
      "execution_count": 0,
      "outputs": []
    },
    {
      "cell_type": "code",
      "metadata": {
        "trusted": true,
        "_uuid": "7b0956ead81c2f4a1888b25d03900e8b89e17e4c",
        "id": "pjun-bbIjpqd",
        "colab_type": "code",
        "colab": {}
      },
      "source": [
        "def best_split(rows):\n",
        "    #initialise best gain and best question\n",
        "    best_gain=0\n",
        "    best_question=None\n",
        "    #calculate the current_gain\n",
        "    current=gini(rows)\n",
        "    #total number of features\n",
        "    features=len(rows[0])-1\n",
        "    for col in range(features):\n",
        "        #collects all unique classes for a feature\n",
        "        values=set([row[col] for row in rows])\n",
        "        for val in values:\n",
        "            #traverse each unique classs\n",
        "            #ask the corresponding question\n",
        "            question=Question(col,val)\n",
        "            #devide the data based on that ques\n",
        "            true_rows,false_rows=partition(rows,question)\n",
        "            if len(true_rows)==0 or len(false_rows) ==0:\n",
        "                #no use go to next iteration\n",
        "                continue\n",
        "            #calculate corresponding gain\n",
        "            gain=info_gain_gini(current,true_rows,false_rows)\n",
        "            #if gain is > than the best replace\n",
        "            if gain>=best_gain:\n",
        "                best_gain,best_question=gain,question\n",
        "            #iterate through each unique class of each feature and return the best gain and best question     \n",
        "    return best_gain,best_question"
      ],
      "execution_count": 0,
      "outputs": []
    },
    {
      "cell_type": "code",
      "metadata": {
        "trusted": true,
        "_uuid": "a97682da588c8928a5eb75b31f0ffa816f82d146",
        "id": "DO3WaEbTjpqf",
        "colab_type": "code",
        "outputId": "69e56d36-1650-4197-ae6e-2d093837d681",
        "colab": {
          "base_uri": "https://localhost:8080/",
          "height": 50
        }
      },
      "source": [
        "'demo best split'\n",
        "a,b=best_split(data)\n",
        "'best question initially and info gain by the respective ques'\n",
        "print(b)\n",
        "print(a)"
      ],
      "execution_count": 0,
      "outputs": [
        {
          "output_type": "stream",
          "text": [
            "Is petal_length >= 6.9?\n",
            "99.99552572706934\n"
          ],
          "name": "stdout"
        }
      ]
    },
    {
      "cell_type": "code",
      "metadata": {
        "trusted": true,
        "_uuid": "84c27686ebbf983fd8f3f6a29b9024a0a41d1575",
        "id": "MEeFCkF3jpqi",
        "colab_type": "code",
        "colab": {}
      },
      "source": [
        "#we are done with our utility functions and classes now we will move on to major\n",
        "#classes to actually build and print the tree"
      ],
      "execution_count": 0,
      "outputs": []
    },
    {
      "cell_type": "code",
      "metadata": {
        "trusted": true,
        "_uuid": "1370ec6970deb5e41319d498763a4261319660c8",
        "id": "JRA7oLXJjpqk",
        "colab_type": "code",
        "colab": {}
      },
      "source": [
        "#this class represents all nodes in the tree\n",
        "class DecisionNode:\n",
        "    def __init__(self,question,true_branch,false_branch):\n",
        "        #question object stores col and val variables regarding the question of that node\n",
        "        self.question = question\n",
        "        #this stores the branch that is true\n",
        "        self.true_branch = true_branch\n",
        "        #this stores the false branch\n",
        "        self.false_branch = false_branch"
      ],
      "execution_count": 0,
      "outputs": []
    },
    {
      "cell_type": "code",
      "metadata": {
        "trusted": true,
        "_uuid": "c2fda89b9b6d26e118b85836344098c416419fa2",
        "id": "OjPEej23jpqm",
        "colab_type": "code",
        "colab": {}
      },
      "source": [
        "#Leaf class is the one whichstores leaf of trees\n",
        "#these are special Leaf Nodes -> on reaching them either\n",
        "#100% purity is achieved or no features are left to split upon\n",
        "class Leaf:\n",
        "    def __init__(self,rows):\n",
        "        #stores unique labels and their values in predictio\n",
        "        self.predictions=count_values(rows)"
      ],
      "execution_count": 0,
      "outputs": []
    },
    {
      "cell_type": "code",
      "metadata": {
        "trusted": true,
        "_uuid": "8b1d7faf7a73fe38b64d4c93570df3b5c9b3dee2",
        "id": "joW8YnKgjpqp",
        "colab_type": "code",
        "colab": {}
      },
      "source": [
        "#build tree function recurssively builds the tree"
      ],
      "execution_count": 0,
      "outputs": []
    },
    {
      "cell_type": "code",
      "metadata": {
        "trusted": true,
        "_uuid": "13538840b10ed624c8b0923b42a9d2a9686fa336",
        "id": "-qdH_VC3jpqt",
        "colab_type": "code",
        "colab": {}
      },
      "source": [
        "def build_tree(rows):\n",
        "    #takes the whole dataset as argument\n",
        "    #gets the best gain and best question\n",
        "    gain,question=best_split(rows)\n",
        "    \n",
        "    #if gian=0 i.e. leaf conditions are satisfied\n",
        "    if gain==0:\n",
        "        #make a leaf object and return\n",
        "        return Leaf(rows)\n",
        "    # If we reach here, we have found a useful feature / value\n",
        "    # to partition on.\n",
        "    true_rows, false_rows = partition(rows, question)\n",
        "\n",
        "    # Recursively build the true branch.\n",
        "    true_branch = build_tree(true_rows)\n",
        "\n",
        "    # Recursively build the false branch.\n",
        "    false_branch = build_tree(false_rows)\n",
        "\n",
        "    #returns the root question node storing branches as well as the quesiton\n",
        "    return DecisionNode(question, true_branch, false_branch)\n",
        "    \n",
        "    "
      ],
      "execution_count": 0,
      "outputs": []
    },
    {
      "cell_type": "code",
      "metadata": {
        "trusted": true,
        "_uuid": "b89aa9b0f8a501ac048e40ab678ccee057065c66",
        "id": "Vm6Qxp3Ejpqw",
        "colab_type": "code",
        "colab": {}
      },
      "source": [
        "#building the tree\n",
        "tree=build_tree(data)"
      ],
      "execution_count": 0,
      "outputs": []
    },
    {
      "cell_type": "code",
      "metadata": {
        "trusted": true,
        "_uuid": "b6f4aa908cd25e46e466eeb6dc123463cbd071c8",
        "id": "SgrogQKhjpq1",
        "colab_type": "code",
        "colab": {}
      },
      "source": [
        "def print_tree(node,indentation=\"\"):\n",
        "    '''printing function'''\n",
        "    #base case means we have reached the leaf\n",
        "    #if the node object is of leaf type\n",
        "    if isinstance(node,Leaf):\n",
        "        print(indentation+\"PREDICTION\",node.predictions)\n",
        "        return \n",
        "    #print the question at node\n",
        "    print(indentation + str(node.question))\n",
        "    \n",
        "    #call the function on true branch \n",
        "    print(indentation+ \"True Branch\")\n",
        "    print_tree(node.true_branch,indentation + \" \")\n",
        "    \n",
        "    #on flase branch\n",
        "    print(indentation+ \"False Branch\")\n",
        "    print_tree(node.false_branch,indentation + \" \")"
      ],
      "execution_count": 0,
      "outputs": []
    },
    {
      "cell_type": "code",
      "metadata": {
        "trusted": true,
        "_uuid": "5542fcbf6c87ff8920a5702b58581526fae4be00",
        "id": "G6i1vPvIjpq7",
        "colab_type": "code",
        "outputId": "64b146ec-07b4-489e-ce7c-93a785ffc2ce",
        "colab": {
          "base_uri": "https://localhost:8080/",
          "height": 1000
        }
      },
      "source": [
        "print_tree(tree)"
      ],
      "execution_count": 0,
      "outputs": [
        {
          "output_type": "stream",
          "text": [
            "Is petal_length >= 6.9?\n",
            "True Branch\n",
            " PREDICTION {2.0: 1}\n",
            "False Branch\n",
            " Is sepal_width >= 4.4?\n",
            " True Branch\n",
            "  PREDICTION {0.0: 1}\n",
            " False Branch\n",
            "  Is sepal_width >= 4.2?\n",
            "  True Branch\n",
            "   PREDICTION {0.0: 1}\n",
            "  False Branch\n",
            "   Is sepal_length >= 7.9?\n",
            "   True Branch\n",
            "    PREDICTION {2.0: 1}\n",
            "   False Branch\n",
            "    Is sepal_width >= 4.1?\n",
            "    True Branch\n",
            "     PREDICTION {0.0: 1}\n",
            "    False Branch\n",
            "     Is sepal_width >= 4.0?\n",
            "     True Branch\n",
            "      PREDICTION {0.0: 1}\n",
            "     False Branch\n",
            "      Is petal_length >= 6.7?\n",
            "      True Branch\n",
            "       PREDICTION {2.0: 2}\n",
            "      False Branch\n",
            "       Is petal_length >= 6.6?\n",
            "       True Branch\n",
            "        PREDICTION {2.0: 1}\n",
            "       False Branch\n",
            "        Is petal_length >= 6.3?\n",
            "        True Branch\n",
            "         PREDICTION {2.0: 1}\n",
            "        False Branch\n",
            "         Is sepal_length >= 7.7?\n",
            "         True Branch\n",
            "          PREDICTION {2.0: 1}\n",
            "         False Branch\n",
            "          Is sepal_length >= 7.4?\n",
            "          True Branch\n",
            "           PREDICTION {2.0: 1}\n",
            "          False Branch\n",
            "           Is petal_length >= 6.1?\n",
            "           True Branch\n",
            "            PREDICTION {2.0: 1}\n",
            "           False Branch\n",
            "            Is sepal_width >= 3.9?\n",
            "            True Branch\n",
            "             PREDICTION {0.0: 2}\n",
            "            False Branch\n",
            "             Is petal_width >= 2.5?\n",
            "             True Branch\n",
            "              PREDICTION {2.0: 2}\n",
            "             False Branch\n",
            "              Is petal_length >= 6.0?\n",
            "              True Branch\n",
            "               PREDICTION {2.0: 1}\n",
            "              False Branch\n",
            "               Is sepal_length >= 7.2?\n",
            "               True Branch\n",
            "                PREDICTION {2.0: 1}\n",
            "               False Branch\n",
            "                Is sepal_length >= 7.1?\n",
            "                True Branch\n",
            "                 PREDICTION {2.0: 1}\n",
            "                False Branch\n",
            "                 Is sepal_length >= 7.0?\n",
            "                 True Branch\n",
            "                  PREDICTION {1.0: 1}\n",
            "                 False Branch\n",
            "                  Is petal_length >= 5.9?\n",
            "                  True Branch\n",
            "                   PREDICTION {2.0: 1}\n",
            "                  False Branch\n",
            "                   Is petal_length >= 5.8?\n",
            "                   True Branch\n",
            "                    PREDICTION {2.0: 2}\n",
            "                   False Branch\n",
            "                    Is petal_length >= 5.7?\n",
            "                    True Branch\n",
            "                     PREDICTION {2.0: 2}\n",
            "                    False Branch\n",
            "                     Is petal_width >= 2.4?\n",
            "                     True Branch\n",
            "                      PREDICTION {2.0: 3}\n",
            "                     False Branch\n",
            "                      Is sepal_width >= 3.8?\n",
            "                      True Branch\n",
            "                       PREDICTION {0.0: 4}\n",
            "                      False Branch\n",
            "                       Is sepal_width >= 3.7?\n",
            "                       True Branch\n",
            "                        PREDICTION {0.0: 3}\n",
            "                       False Branch\n",
            "                        Is sepal_width >= 3.6?\n",
            "                        True Branch\n",
            "                         PREDICTION {0.0: 3}\n",
            "                        False Branch\n",
            "                         Is petal_width >= 2.3?\n",
            "                         True Branch\n",
            "                          PREDICTION {2.0: 4}\n",
            "                         False Branch\n",
            "                          Is petal_width >= 2.2?\n",
            "                          True Branch\n",
            "                           PREDICTION {2.0: 1}\n",
            "                          False Branch\n",
            "                           Is petal_width >= 2.1?\n",
            "                           True Branch\n",
            "                            PREDICTION {2.0: 3}\n",
            "                           False Branch\n",
            "                            Is sepal_length >= 6.9?\n",
            "                            True Branch\n",
            "                             PREDICTION {1.0: 1}\n",
            "                            False Branch\n",
            "                             Is sepal_length >= 6.8?\n",
            "                             True Branch\n",
            "                              PREDICTION {1.0: 1}\n",
            "                             False Branch\n",
            "                              Is sepal_length >= 6.7?\n",
            "                              True Branch\n",
            "                               PREDICTION {1.0: 3}\n",
            "                              False Branch\n",
            "                               Is sepal_length >= 6.6?\n",
            "                               True Branch\n",
            "                                PREDICTION {1.0: 2}\n",
            "                               False Branch\n",
            "                                Is petal_length >= 5.6?\n",
            "                                True Branch\n",
            "                                 PREDICTION {2.0: 2}\n",
            "                                False Branch\n",
            "                                 Is petal_length >= 5.5?\n",
            "                                 True Branch\n",
            "                                  PREDICTION {2.0: 2}\n",
            "                                 False Branch\n",
            "                                  Is petal_length >= 5.3?\n",
            "                                  True Branch\n",
            "                                   PREDICTION {2.0: 1}\n",
            "                                  False Branch\n",
            "                                   Is petal_length >= 5.2?\n",
            "                                   True Branch\n",
            "                                    PREDICTION {2.0: 1}\n",
            "                                   False Branch\n",
            "                                    Is petal_width >= 2.0?\n",
            "                                    True Branch\n",
            "                                     PREDICTION {2.0: 3}\n",
            "                                    False Branch\n",
            "                                     Is sepal_length >= 6.5?\n",
            "                                     True Branch\n",
            "                                      PREDICTION {1.0: 1}\n",
            "                                     False Branch\n",
            "                                      Is sepal_length >= 6.4?\n",
            "                                      True Branch\n",
            "                                       PREDICTION {1.0: 2}\n",
            "                                      False Branch\n",
            "                                       Is petal_width >= 1.9?\n",
            "                                       True Branch\n",
            "                                        PREDICTION {2.0: 3}\n",
            "                                       False Branch\n",
            "                                        Is sepal_width >= 3.5?\n",
            "                                        True Branch\n",
            "                                         PREDICTION {0.0: 6}\n",
            "                                        False Branch\n",
            "                                         Is sepal_width >= 3.4?\n",
            "                                         True Branch\n",
            "                                          Is petal_width >= 1.6?\n",
            "                                          True Branch\n",
            "                                           PREDICTION {1.0: 1}\n",
            "                                          False Branch\n",
            "                                           PREDICTION {0.0: 9}\n",
            "                                         False Branch\n",
            "                                          Is petal_width >= 1.7?\n",
            "                                          True Branch\n",
            "                                           Is petal_length >= 5.1?\n",
            "                                           True Branch\n",
            "                                            PREDICTION {2.0: 1}\n",
            "                                           False Branch\n",
            "                                            Is sepal_length >= 6.3?\n",
            "                                            True Branch\n",
            "                                             PREDICTION {2.0: 1}\n",
            "                                            False Branch\n",
            "                                             Is petal_length >= 4.9?\n",
            "                                             True Branch\n",
            "                                              PREDICTION {2.0: 1}\n",
            "                                             False Branch\n",
            "                                              Is sepal_length >= 6.2?\n",
            "                                              True Branch\n",
            "                                               PREDICTION {2.0: 1}\n",
            "                                              False Branch\n",
            "                                               Is sepal_length >= 6.0?\n",
            "                                               True Branch\n",
            "                                                PREDICTION {2.0: 1}\n",
            "                                               False Branch\n",
            "                                                Is petal_width >= 1.8?\n",
            "                                                True Branch\n",
            "                                                 PREDICTION {1.0: 1}\n",
            "                                                False Branch\n",
            "                                                 PREDICTION {2.0: 1}\n",
            "                                          False Branch\n",
            "                                           Is petal_width >= 1.6?\n",
            "                                           True Branch\n",
            "                                            PREDICTION {1.0: 2}\n",
            "                                           False Branch\n",
            "                                            Is petal_length >= 5.1?\n",
            "                                            True Branch\n",
            "                                             PREDICTION {2.0: 1}\n",
            "                                            False Branch\n",
            "                                             Is sepal_length >= 6.3?\n",
            "                                             True Branch\n",
            "                                              PREDICTION {1.0: 2}\n",
            "                                             False Branch\n",
            "                                              Is sepal_length >= 6.2?\n",
            "                                              True Branch\n",
            "                                               PREDICTION {1.0: 2}\n",
            "                                              False Branch\n",
            "                                               Is sepal_length >= 6.1?\n",
            "                                               True Branch\n",
            "                                                PREDICTION {1.0: 4}\n",
            "                                               False Branch\n",
            "                                                Is sepal_width >= 3.3?\n",
            "                                                True Branch\n",
            "                                                 PREDICTION {0.0: 2}\n",
            "                                                False Branch\n",
            "                                                 Is petal_length >= 5.0?\n",
            "                                                 True Branch\n",
            "                                                  PREDICTION {2.0: 1}\n",
            "                                                 False Branch\n",
            "                                                  Is sepal_length >= 6.0?\n",
            "                                                  True Branch\n",
            "                                                   PREDICTION {1.0: 2}\n",
            "                                                  False Branch\n",
            "                                                   Is sepal_length >= 5.9?\n",
            "                                                   True Branch\n",
            "                                                    PREDICTION {1.0: 1}\n",
            "                                                   False Branch\n",
            "                                                    Is petal_width >= 1.5?\n",
            "                                                    True Branch\n",
            "                                                     PREDICTION {1.0: 2}\n",
            "                                                    False Branch\n",
            "                                                     Is petal_width >= 1.4?\n",
            "                                                     True Branch\n",
            "                                                      PREDICTION {1.0: 1}\n",
            "                                                     False Branch\n",
            "                                                      Is petal_length >= 4.5?\n",
            "                                                      True Branch\n",
            "                                                       PREDICTION {1.0: 1}\n",
            "                                                      False Branch\n",
            "                                                       Is petal_length >= 4.4?\n",
            "                                                       True Branch\n",
            "                                                        PREDICTION {1.0: 1}\n",
            "                                                       False Branch\n",
            "                                                        Is petal_length >= 4.2?\n",
            "                                                        True Branch\n",
            "                                                         PREDICTION {1.0: 3}\n",
            "                                                        False Branch\n",
            "                                                         Is petal_length >= 4.1?\n",
            "                                                         True Branch\n",
            "                                                          PREDICTION {1.0: 3}\n",
            "                                                         False Branch\n",
            "                                                          Is sepal_length >= 5.8?\n",
            "                                                          True Branch\n",
            "                                                           PREDICTION {1.0: 2}\n",
            "                                                          False Branch\n",
            "                                                           Is sepal_length >= 5.7?\n",
            "                                                           True Branch\n",
            "                                                            PREDICTION {1.0: 1}\n",
            "                                                           False Branch\n",
            "                                                            Is sepal_width >= 3.2?\n",
            "                                                            True Branch\n",
            "                                                             PREDICTION {0.0: 5}\n",
            "                                                            False Branch\n",
            "                                                             Is petal_length >= 4.0?\n",
            "                                                             True Branch\n",
            "                                                              PREDICTION {1.0: 2}\n",
            "                                                             False Branch\n",
            "                                                              Is petal_width >= 1.3?\n",
            "                                                              True Branch\n",
            "                                                               PREDICTION {1.0: 1}\n",
            "                                                              False Branch\n",
            "                                                               Is petal_length >= 3.9?\n",
            "                                                               True Branch\n",
            "                                                                PREDICTION {1.0: 1}\n",
            "                                                               False Branch\n",
            "                                                                Is petal_length >= 3.8?\n",
            "                                                                True Branch\n",
            "                                                                 PREDICTION {1.0: 1}\n",
            "                                                                False Branch\n",
            "                                                                 Is sepal_width >= 3.1?\n",
            "                                                                 True Branch\n",
            "                                                                  PREDICTION {0.0: 4}\n",
            "                                                                 False Branch\n",
            "                                                                  Is petal_width >= 1.1?\n",
            "                                                                  True Branch\n",
            "                                                                   PREDICTION {1.0: 1}\n",
            "                                                                  False Branch\n",
            "                                                                   Is petal_length >= 3.7?\n",
            "                                                                   True Branch\n",
            "                                                                    PREDICTION {1.0: 1}\n",
            "                                                                   False Branch\n",
            "                                                                    Is petal_length >= 3.5?\n",
            "                                                                    True Branch\n",
            "                                                                     PREDICTION {1.0: 1}\n",
            "                                                                    False Branch\n",
            "                                                                     Is sepal_width >= 3.0?\n",
            "                                                                     True Branch\n",
            "                                                                      PREDICTION {0.0: 6}\n",
            "                                                                     False Branch\n",
            "                                                                      Is sepal_length >= 5.0?\n",
            "                                                                      True Branch\n",
            "                                                                       PREDICTION {1.0: 1}\n",
            "                                                                      False Branch\n",
            "                                                                       Is sepal_width >= 2.9?\n",
            "                                                                       True Branch\n",
            "                                                                        PREDICTION {0.0: 1}\n",
            "                                                                       False Branch\n",
            "                                                                        Is petal_width >= 1.0?\n",
            "                                                                        True Branch\n",
            "                                                                         PREDICTION {1.0: 1}\n",
            "                                                                        False Branch\n",
            "                                                                         PREDICTION {0.0: 1}\n"
          ],
          "name": "stdout"
        }
      ]
    },
    {
      "cell_type": "markdown",
      "metadata": {
        "_uuid": "83aaaf54a96f0fc9ff8f56e971cd2ec2be00e531",
        "id": "u1Wgj0aujpq-",
        "colab_type": "text"
      },
      "source": [
        "# Output Corresponding To Project Requirements"
      ]
    },
    {
      "cell_type": "code",
      "metadata": {
        "trusted": true,
        "_uuid": "52f859467511e98d41e9c86078c6a0d31e33cf1d",
        "id": "WMx4Ia_Pjpq_",
        "colab_type": "code",
        "colab": {}
      },
      "source": [
        "def  split_info(left,right):\n",
        "    num=float(len(left))\n",
        "    den=len(left)+len(right)\n",
        "    p=num/den\n",
        "    from math import log\n",
        "    log10=lambda x:log(x)/log(10)\n",
        "    return -(log10(p)*p+(1-p)*log10(1-p))"
      ],
      "execution_count": 0,
      "outputs": []
    },
    {
      "cell_type": "code",
      "metadata": {
        "trusted": true,
        "_uuid": "639e12bb00eb87cd063fca67ac63999d15743e6b",
        "id": "EUD-ddoMjprC",
        "colab_type": "code",
        "colab": {}
      },
      "source": [
        "def print_tree_output(data,level):\n",
        "    gain,question=best_split(data)\n",
        "    #base case means we have reached the leaf\n",
        "    #if the node object is of leaf type\n",
        "    if gain==0:\n",
        "        print(\"Level \",level)\n",
        "        count=count_values(data)\n",
        "        for value in count:\n",
        "            print(\"Count of \",value,\" = \",count[value])\n",
        "        print(\"Current entropy is = \",entropy(data))\n",
        "        print(\"Reached Leaf Node\") \n",
        "        return \n",
        "    print('Level ',level)\n",
        "    count=count_values(data)\n",
        "    for value in count:\n",
        "        print(\"Count of \",value,\" = \",count[value])\n",
        "    feature=question.column\n",
        "    true_rows, false_rows = partition(data, question)\n",
        "    split=split_info(true_rows,false_rows)\n",
        "    gain1=info_gain_entropy(entropy(data),true_rows,false_rows)\n",
        "    print(\"Current entropy is = \",entropy(data))\n",
        "    print(\"Spliting on feature \",header[feature],\" with gain ratio \",gain1/split)\n",
        "    \n",
        "    print_tree_output(true_rows,level+1)\n",
        "    print_tree_output(false_rows,level+1)"
      ],
      "execution_count": 0,
      "outputs": []
    },
    {
      "cell_type": "code",
      "metadata": {
        "trusted": true,
        "_uuid": "82af7832c7cea568e6c21f87f7d90688d6a37cde",
        "id": "npOhsdbdjprF",
        "colab_type": "code",
        "outputId": "a6bd5402-575f-4278-edc8-203759f7f123",
        "colab": {
          "base_uri": "https://localhost:8080/",
          "height": 1000
        }
      },
      "source": [
        "print_tree_output(data,0)"
      ],
      "execution_count": 0,
      "outputs": [
        {
          "output_type": "stream",
          "text": [
            "Level  0\n",
            "Count of  0.0  =  50\n",
            "Count of  1.0  =  50\n",
            "Count of  2.0  =  50\n",
            "Current entropy is =  1.584962500721156\n",
            "Spliting on feature  petal_length  with gain ratio  13668.490189622818\n",
            "Level  1\n",
            "Count of  2.0  =  1\n",
            "Current entropy is =  0.0\n",
            "Reached Leaf Node\n",
            "Level  1\n",
            "Count of  0.0  =  50\n",
            "Count of  1.0  =  50\n",
            "Count of  2.0  =  49\n",
            "Current entropy is =  1.5848973705351974\n",
            "Spliting on feature  sepal_width  with gain ratio  13501.92708309278\n",
            "Level  2\n",
            "Count of  0.0  =  1\n",
            "Current entropy is =  0.0\n",
            "Reached Leaf Node\n",
            "Level  2\n",
            "Count of  0.0  =  49\n",
            "Count of  1.0  =  50\n",
            "Count of  2.0  =  49\n",
            "Current entropy is =  1.5848967831152563\n",
            "Spliting on feature  sepal_width  with gain ratio  13335.193479394704\n",
            "Level  3\n",
            "Count of  0.0  =  1\n",
            "Current entropy is =  0.0\n",
            "Reached Leaf Node\n",
            "Level  3\n",
            "Count of  0.0  =  48\n",
            "Count of  1.0  =  50\n",
            "Count of  2.0  =  49\n",
            "Current entropy is =  1.5847621959588345\n",
            "Spliting on feature  sepal_length  with gain ratio  13169.966225081154\n",
            "Level  4\n",
            "Count of  2.0  =  1\n",
            "Current entropy is =  0.0\n",
            "Reached Leaf Node\n",
            "Level  4\n",
            "Count of  0.0  =  48\n",
            "Count of  1.0  =  50\n",
            "Count of  2.0  =  48\n",
            "Current entropy is =  1.584692986565173\n",
            "Spliting on feature  sepal_width  with gain ratio  13004.562087248072\n",
            "Level  5\n",
            "Count of  0.0  =  1\n",
            "Current entropy is =  0.0\n",
            "Reached Leaf Node\n",
            "Level  5\n",
            "Count of  0.0  =  47\n",
            "Count of  1.0  =  50\n",
            "Count of  2.0  =  48\n",
            "Current entropy is =  1.5844836724135505\n",
            "Spliting on feature  sepal_width  with gain ratio  12838.957797402541\n",
            "Level  6\n",
            "Count of  0.0  =  1\n",
            "Current entropy is =  0.0\n",
            "Reached Leaf Node\n",
            "Level  6\n",
            "Count of  0.0  =  46\n",
            "Count of  1.0  =  50\n",
            "Count of  2.0  =  48\n",
            "Current entropy is =  1.584127366011935\n",
            "Spliting on feature  petal_length  with gain ratio  7125.376444208218\n",
            "Level  7\n",
            "Count of  2.0  =  2\n",
            "Current entropy is =  0.0\n",
            "Reached Leaf Node\n",
            "Level  7\n",
            "Count of  0.0  =  46\n",
            "Count of  1.0  =  50\n",
            "Count of  2.0  =  46\n",
            "Current entropy is =  1.5838280388991792\n",
            "Spliting on feature  petal_length  with gain ratio  12351.317617530302\n",
            "Level  8\n",
            "Count of  2.0  =  1\n",
            "Current entropy is =  0.0\n",
            "Reached Leaf Node\n",
            "Level  8\n",
            "Count of  0.0  =  46\n",
            "Count of  1.0  =  50\n",
            "Count of  2.0  =  45\n",
            "Current entropy is =  1.5834517155037995\n",
            "Spliting on feature  petal_length  with gain ratio  12188.364716404954\n",
            "Level  9\n",
            "Count of  2.0  =  1\n",
            "Current entropy is =  0.0\n",
            "Reached Leaf Node\n",
            "Level  9\n",
            "Count of  0.0  =  46\n",
            "Count of  1.0  =  50\n",
            "Count of  2.0  =  44\n",
            "Current entropy is =  1.5829140834635385\n",
            "Spliting on feature  sepal_length  with gain ratio  12025.182362412963\n",
            "Level  10\n",
            "Count of  2.0  =  1\n",
            "Current entropy is =  0.0\n",
            "Reached Leaf Node\n",
            "Level  10\n",
            "Count of  0.0  =  46\n",
            "Count of  1.0  =  50\n",
            "Count of  2.0  =  43\n",
            "Current entropy is =  1.5822069438058886\n",
            "Spliting on feature  sepal_length  with gain ratio  11861.755778703377\n",
            "Level  11\n",
            "Count of  2.0  =  1\n",
            "Current entropy is =  0.0\n",
            "Reached Leaf Node\n",
            "Level  11\n",
            "Count of  0.0  =  46\n",
            "Count of  1.0  =  50\n",
            "Count of  2.0  =  42\n",
            "Current entropy is =  1.5813216218211636\n",
            "Spliting on feature  petal_length  with gain ratio  11698.069221765398\n",
            "Level  12\n",
            "Count of  2.0  =  1\n",
            "Current entropy is =  0.0\n",
            "Reached Leaf Node\n",
            "Level  12\n",
            "Count of  0.0  =  46\n",
            "Count of  1.0  =  50\n",
            "Count of  2.0  =  41\n",
            "Current entropy is =  1.5802489321816928\n",
            "Spliting on feature  sepal_width  with gain ratio  6493.507808938599\n",
            "Level  13\n",
            "Count of  0.0  =  2\n",
            "Current entropy is =  0.0\n",
            "Reached Leaf Node\n",
            "Level  13\n",
            "Count of  0.0  =  44\n",
            "Count of  1.0  =  50\n",
            "Count of  2.0  =  41\n",
            "Current entropy is =  1.5800197978055068\n",
            "Spliting on feature  petal_width  with gain ratio  6312.741487405622\n",
            "Level  14\n",
            "Count of  2.0  =  2\n",
            "Current entropy is =  0.0\n",
            "Reached Leaf Node\n",
            "Level  14\n",
            "Count of  0.0  =  44\n",
            "Count of  1.0  =  50\n",
            "Count of  2.0  =  39\n",
            "Current entropy is =  1.577549448701152\n",
            "Spliting on feature  petal_length  with gain ratio  10904.687015133271\n",
            "Level  15\n",
            "Count of  2.0  =  1\n",
            "Current entropy is =  0.0\n",
            "Reached Leaf Node\n",
            "Level  15\n",
            "Count of  0.0  =  44\n",
            "Count of  1.0  =  50\n",
            "Count of  2.0  =  38\n",
            "Current entropy is =  1.5759922540581992\n",
            "Spliting on feature  sepal_length  with gain ratio  10742.979574522067\n",
            "Level  16\n",
            "Count of  2.0  =  1\n",
            "Current entropy is =  0.0\n",
            "Reached Leaf Node\n",
            "Level  16\n",
            "Count of  0.0  =  44\n",
            "Count of  1.0  =  50\n",
            "Count of  2.0  =  37\n",
            "Current entropy is =  1.5742048699569278\n",
            "Spliting on feature  sepal_length  with gain ratio  10580.930585660675\n",
            "Level  17\n",
            "Count of  2.0  =  1\n",
            "Current entropy is =  0.0\n",
            "Reached Leaf Node\n",
            "Level  17\n",
            "Count of  0.0  =  44\n",
            "Count of  1.0  =  50\n",
            "Count of  2.0  =  36\n",
            "Current entropy is =  1.5721747302538347\n",
            "Spliting on feature  sepal_length  with gain ratio  10443.001970607136\n",
            "Level  18\n",
            "Count of  1.0  =  1\n",
            "Current entropy is =  0.0\n",
            "Reached Leaf Node\n",
            "Level  18\n",
            "Count of  0.0  =  44\n",
            "Count of  1.0  =  49\n",
            "Count of  2.0  =  36\n",
            "Current entropy is =  1.5736065295813195\n",
            "Spliting on feature  petal_length  with gain ratio  10282.322851636216\n",
            "Level  19\n",
            "Count of  2.0  =  1\n",
            "Current entropy is =  0.0\n",
            "Reached Leaf Node\n",
            "Level  19\n",
            "Count of  0.0  =  44\n",
            "Count of  1.0  =  49\n",
            "Count of  2.0  =  35\n",
            "Current entropy is =  1.5714009439471868\n",
            "Spliting on feature  petal_length  with gain ratio  5690.542009977429\n",
            "Level  20\n",
            "Count of  2.0  =  2\n",
            "Current entropy is =  0.0\n",
            "Reached Leaf Node\n",
            "Level  20\n",
            "Count of  0.0  =  44\n",
            "Count of  1.0  =  49\n",
            "Count of  2.0  =  33\n",
            "Current entropy is =  1.5661626257180497\n",
            "Spliting on feature  petal_length  with gain ratio  5507.719782168353\n",
            "Level  21\n",
            "Count of  2.0  =  2\n",
            "Current entropy is =  0.0\n",
            "Reached Leaf Node\n",
            "Level  21\n",
            "Count of  0.0  =  44\n",
            "Count of  1.0  =  49\n",
            "Count of  2.0  =  31\n",
            "Current entropy is =  1.5597135748733315\n",
            "Spliting on feature  petal_width  with gain ratio  3815.458837334906\n",
            "Level  22\n",
            "Count of  2.0  =  3\n",
            "Current entropy is =  0.0\n",
            "Reached Leaf Node\n",
            "Level  22\n",
            "Count of  0.0  =  44\n",
            "Count of  1.0  =  49\n",
            "Count of  2.0  =  28\n",
            "Current entropy is =  1.5474441348010475\n",
            "Spliting on feature  sepal_width  with gain ratio  2898.152454680815\n",
            "Level  23\n",
            "Count of  0.0  =  4\n",
            "Current entropy is =  0.0\n",
            "Reached Leaf Node\n",
            "Level  23\n",
            "Count of  0.0  =  40\n",
            "Count of  1.0  =  49\n",
            "Count of  2.0  =  28\n",
            "Current entropy is =  1.548964343730818\n",
            "Spliting on feature  sepal_width  with gain ratio  3437.494428681815\n",
            "Level  24\n",
            "Count of  0.0  =  3\n",
            "Current entropy is =  0.0\n",
            "Reached Leaf Node\n",
            "Level  24\n",
            "Count of  0.0  =  37\n",
            "Count of  1.0  =  49\n",
            "Count of  2.0  =  28\n",
            "Current entropy is =  1.5480084816425554\n",
            "Spliting on feature  sepal_width  with gain ratio  3273.918696232757\n",
            "Level  25\n",
            "Count of  0.0  =  3\n",
            "Current entropy is =  0.0\n",
            "Reached Leaf Node\n",
            "Level  25\n",
            "Count of  0.0  =  34\n",
            "Count of  1.0  =  49\n",
            "Count of  2.0  =  28\n",
            "Current entropy is =  1.5448622016494786\n",
            "Spliting on feature  petal_width  with gain ratio  2445.2681378573125\n",
            "Level  26\n",
            "Count of  2.0  =  4\n",
            "Current entropy is =  0.0\n",
            "Reached Leaf Node\n",
            "Level  26\n",
            "Count of  0.0  =  34\n",
            "Count of  1.0  =  49\n",
            "Count of  2.0  =  24\n",
            "Current entropy is =  1.5252649398454041\n",
            "Spliting on feature  petal_width  with gain ratio  7065.4766814482855\n",
            "Level  27\n",
            "Count of  2.0  =  1\n",
            "Current entropy is =  0.0\n",
            "Reached Leaf Node\n",
            "Level  27\n",
            "Count of  0.0  =  34\n",
            "Count of  1.0  =  49\n",
            "Count of  2.0  =  23\n",
            "Current entropy is =  1.5190860776436896\n",
            "Spliting on feature  petal_width  with gain ratio  2783.6430697838427\n",
            "Level  28\n",
            "Count of  2.0  =  3\n",
            "Current entropy is =  0.0\n",
            "Reached Leaf Node\n",
            "Level  28\n",
            "Count of  0.0  =  34\n",
            "Count of  1.0  =  49\n",
            "Count of  2.0  =  20\n",
            "Current entropy is =  1.4968589654171605\n",
            "Spliting on feature  sepal_length  with gain ratio  6512.493863978548\n",
            "Level  29\n",
            "Count of  1.0  =  1\n",
            "Current entropy is =  0.0\n",
            "Reached Leaf Node\n",
            "Level  29\n",
            "Count of  0.0  =  34\n",
            "Count of  1.0  =  48\n",
            "Count of  2.0  =  20\n",
            "Current entropy is =  1.5009498661393947\n",
            "Spliting on feature  sepal_length  with gain ratio  6414.906047696535\n",
            "Level  30\n",
            "Count of  1.0  =  1\n",
            "Current entropy is =  0.0\n",
            "Reached Leaf Node\n",
            "Level  30\n",
            "Count of  0.0  =  34\n",
            "Count of  1.0  =  47\n",
            "Count of  2.0  =  20\n",
            "Current entropy is =  1.5049642101863716\n",
            "Spliting on feature  sepal_length  with gain ratio  2585.200235996691\n",
            "Level  31\n",
            "Count of  1.0  =  3\n",
            "Current entropy is =  0.0\n",
            "Reached Leaf Node\n",
            "Level  31\n",
            "Count of  0.0  =  34\n",
            "Count of  1.0  =  44\n",
            "Count of  2.0  =  20\n",
            "Current entropy is =  1.516472193908067\n",
            "Spliting on feature  sepal_length  with gain ratio  3415.69878179385\n",
            "Level  32\n",
            "Count of  1.0  =  2\n",
            "Current entropy is =  0.0\n",
            "Reached Leaf Node\n",
            "Level  32\n",
            "Count of  0.0  =  34\n",
            "Count of  1.0  =  42\n",
            "Count of  2.0  =  20\n",
            "Current entropy is =  1.5236121855444196\n",
            "Spliting on feature  petal_length  with gain ratio  3254.8728883883123\n",
            "Level  33\n",
            "Count of  2.0  =  2\n",
            "Current entropy is =  0.0\n",
            "Reached Leaf Node\n",
            "Level  33\n",
            "Count of  0.0  =  34\n",
            "Count of  1.0  =  42\n",
            "Count of  2.0  =  18\n",
            "Current entropy is =  1.506613124175711\n",
            "Spliting on feature  petal_length  with gain ratio  3091.00811237361\n",
            "Level  34\n",
            "Count of  2.0  =  2\n",
            "Current entropy is =  0.0\n",
            "Reached Leaf Node\n",
            "Level  34\n",
            "Count of  0.0  =  34\n",
            "Count of  1.0  =  42\n",
            "Count of  2.0  =  16\n",
            "Current entropy is =  1.4860503434568013\n",
            "Spliting on feature  petal_length  with gain ratio  5208.872635788621\n",
            "Level  35\n",
            "Count of  2.0  =  1\n",
            "Current entropy is =  0.0\n",
            "Reached Leaf Node\n",
            "Level  35\n",
            "Count of  0.0  =  34\n",
            "Count of  1.0  =  42\n",
            "Count of  2.0  =  15\n",
            "Current entropy is =  1.4742295051069683\n",
            "Spliting on feature  petal_length  with gain ratio  5061.528119363404\n",
            "Level  36\n",
            "Count of  2.0  =  1\n",
            "Current entropy is =  0.0\n",
            "Reached Leaf Node\n",
            "Level  36\n",
            "Count of  0.0  =  34\n",
            "Count of  1.0  =  42\n",
            "Count of  2.0  =  14\n",
            "Current entropy is =  1.4612526822404976\n",
            "Spliting on feature  petal_width  with gain ratio  1961.4432272297972\n",
            "Level  37\n",
            "Count of  2.0  =  3\n",
            "Current entropy is =  0.0\n",
            "Reached Leaf Node\n",
            "Level  37\n",
            "Count of  0.0  =  34\n",
            "Count of  1.0  =  42\n",
            "Count of  2.0  =  11\n",
            "Current entropy is =  1.414152505455283\n",
            "Spliting on feature  sepal_length  with gain ratio  4526.8536374067\n",
            "Level  38\n",
            "Count of  1.0  =  1\n",
            "Current entropy is =  0.0\n",
            "Reached Leaf Node\n",
            "Level  38\n",
            "Count of  0.0  =  34\n",
            "Count of  1.0  =  41\n",
            "Count of  2.0  =  11\n",
            "Current entropy is =  1.4182750268315956\n",
            "Spliting on feature  sepal_length  with gain ratio  2526.9318079304576\n",
            "Level  39\n",
            "Count of  1.0  =  2\n",
            "Current entropy is =  0.0\n",
            "Reached Leaf Node\n",
            "Level  39\n",
            "Count of  0.0  =  34\n",
            "Count of  1.0  =  39\n",
            "Count of  2.0  =  11\n",
            "Current entropy is =  1.4261487210745998\n",
            "Spliting on feature  petal_width  with gain ratio  1671.5321831013607\n",
            "Level  40\n",
            "Count of  2.0  =  3\n",
            "Current entropy is =  0.0\n",
            "Reached Leaf Node\n",
            "Level  40\n",
            "Count of  0.0  =  34\n",
            "Count of  1.0  =  39\n",
            "Count of  2.0  =  8\n",
            "Current entropy is =  1.3632521863643874\n",
            "Spliting on feature  sepal_width  with gain ratio  905.0517433311843\n",
            "Level  41\n",
            "Count of  0.0  =  6\n",
            "Current entropy is =  0.0\n",
            "Reached Leaf Node\n",
            "Level  41\n",
            "Count of  0.0  =  28\n",
            "Count of  1.0  =  39\n",
            "Count of  2.0  =  8\n",
            "Current entropy is =  1.3656636991193396\n",
            "Spliting on feature  sepal_width  with gain ratio  338.54361634126457\n",
            "Level  42\n",
            "Count of  0.0  =  9\n",
            "Count of  1.0  =  1\n",
            "Current entropy is =  0.4689955935892812\n",
            "Spliting on feature  petal_width  with gain ratio  3.321928094887363\n",
            "Level  43\n",
            "Count of  1.0  =  1\n",
            "Current entropy is =  0.0\n",
            "Reached Leaf Node\n",
            "Level  43\n",
            "Count of  0.0  =  9\n",
            "Current entropy is =  0.0\n",
            "Reached Leaf Node\n",
            "Level  42\n",
            "Count of  0.0  =  19\n",
            "Count of  1.0  =  38\n",
            "Count of  2.0  =  8\n",
            "Current entropy is =  1.3434159935471564\n",
            "Spliting on feature  petal_width  with gain ratio  207.14865941360756\n",
            "Level  43\n",
            "Count of  1.0  =  1\n",
            "Count of  2.0  =  6\n",
            "Current entropy is =  0.5916727785823275\n",
            "Spliting on feature  petal_length  with gain ratio  25.219110013118183\n",
            "Level  44\n",
            "Count of  2.0  =  1\n",
            "Current entropy is =  0.0\n",
            "Reached Leaf Node\n",
            "Level  44\n",
            "Count of  1.0  =  1\n",
            "Count of  2.0  =  5\n",
            "Current entropy is =  0.6500224216483541\n",
            "Spliting on feature  sepal_length  with gain ratio  21.768931929104337\n",
            "Level  45\n",
            "Count of  2.0  =  1\n",
            "Current entropy is =  0.0\n",
            "Reached Leaf Node\n",
            "Level  45\n",
            "Count of  1.0  =  1\n",
            "Count of  2.0  =  4\n",
            "Current entropy is =  0.7219280948873623\n",
            "Spliting on feature  petal_length  with gain ratio  18.254205220513313\n",
            "Level  46\n",
            "Count of  2.0  =  1\n",
            "Current entropy is =  0.0\n",
            "Reached Leaf Node\n",
            "Level  46\n",
            "Count of  1.0  =  1\n",
            "Count of  2.0  =  3\n",
            "Current entropy is =  0.8112781244591328\n",
            "Spliting on feature  sepal_length  with gain ratio  14.602323702487523\n",
            "Level  47\n",
            "Count of  2.0  =  1\n",
            "Current entropy is =  0.0\n",
            "Reached Leaf Node\n",
            "Level  47\n",
            "Count of  1.0  =  1\n",
            "Count of  2.0  =  2\n",
            "Current entropy is =  0.9182958340544896\n",
            "Spliting on feature  sepal_length  with gain ratio  10.556912664555458\n",
            "Level  48\n",
            "Count of  2.0  =  1\n",
            "Current entropy is =  0.0\n",
            "Reached Leaf Node\n",
            "Level  48\n",
            "Count of  1.0  =  1\n",
            "Count of  2.0  =  1\n",
            "Current entropy is =  1.0\n",
            "Spliting on feature  petal_width  with gain ratio  3.321928094887363\n",
            "Level  49\n",
            "Count of  1.0  =  1\n",
            "Current entropy is =  0.0\n",
            "Reached Leaf Node\n",
            "Level  49\n",
            "Count of  2.0  =  1\n",
            "Current entropy is =  0.0\n",
            "Reached Leaf Node\n",
            "Level  43\n",
            "Count of  0.0  =  19\n",
            "Count of  1.0  =  37\n",
            "Count of  2.0  =  2\n",
            "Current entropy is =  1.108663800581033\n",
            "Spliting on feature  petal_width  with gain ratio  983.774568246391\n",
            "Level  44\n",
            "Count of  1.0  =  2\n",
            "Current entropy is =  0.0\n",
            "Reached Leaf Node\n",
            "Level  44\n",
            "Count of  0.0  =  19\n",
            "Count of  1.0  =  35\n",
            "Count of  2.0  =  2\n",
            "Current entropy is =  1.1245776301200694\n",
            "Spliting on feature  petal_length  with gain ratio  1513.0829583383677\n",
            "Level  45\n",
            "Count of  2.0  =  1\n",
            "Current entropy is =  0.0\n",
            "Reached Leaf Node\n",
            "Level  45\n",
            "Count of  0.0  =  19\n",
            "Count of  1.0  =  35\n",
            "Count of  2.0  =  1\n",
            "Current entropy is =  1.0498046526428062\n",
            "Spliting on feature  sepal_length  with gain ratio  846.8887207910385\n",
            "Level  46\n",
            "Count of  1.0  =  2\n",
            "Current entropy is =  0.0\n",
            "Reached Leaf Node\n",
            "Level  46\n",
            "Count of  0.0  =  19\n",
            "Count of  1.0  =  33\n",
            "Count of  2.0  =  1\n",
            "Current entropy is =  1.0642293471243864\n",
            "Spliting on feature  sepal_length  with gain ratio  803.4545570656867\n",
            "Level  47\n",
            "Count of  1.0  =  2\n",
            "Current entropy is =  0.0\n",
            "Reached Leaf Node\n",
            "Level  47\n",
            "Count of  0.0  =  19\n",
            "Count of  1.0  =  31\n",
            "Count of  2.0  =  1\n",
            "Current entropy is =  1.0784898835906866\n",
            "Spliting on feature  sepal_length  with gain ratio  444.329792727693\n",
            "Level  48\n",
            "Count of  1.0  =  4\n",
            "Current entropy is =  0.0\n",
            "Reached Leaf Node\n",
            "Level  48\n",
            "Count of  0.0  =  19\n",
            "Count of  1.0  =  27\n",
            "Count of  2.0  =  1\n",
            "Current entropy is =  1.1058104407448335\n",
            "Spliting on feature  sepal_width  with gain ratio  659.0821318072232\n",
            "Level  49\n",
            "Count of  0.0  =  2\n",
            "Current entropy is =  0.0\n",
            "Reached Leaf Node\n",
            "Level  49\n",
            "Count of  0.0  =  17\n",
            "Count of  1.0  =  27\n",
            "Count of  2.0  =  1\n",
            "Current entropy is =  1.0947679661147989\n",
            "Spliting on feature  petal_length  with gain ratio  938.6340168141011\n",
            "Level  50\n",
            "Count of  2.0  =  1\n",
            "Current entropy is =  0.0\n",
            "Reached Leaf Node\n",
            "Level  50\n",
            "Count of  0.0  =  17\n",
            "Count of  1.0  =  27\n",
            "Current entropy is =  0.9624127354629923\n",
            "Spliting on feature  sepal_length  with gain ratio  521.2235293553695\n",
            "Level  51\n",
            "Count of  1.0  =  2\n",
            "Current entropy is =  0.0\n",
            "Reached Leaf Node\n",
            "Level  51\n",
            "Count of  0.0  =  17\n",
            "Count of  1.0  =  25\n",
            "Current entropy is =  0.9736680645496201\n",
            "Spliting on feature  sepal_length  with gain ratio  841.2420024562715\n",
            "Level  52\n",
            "Count of  1.0  =  1\n",
            "Current entropy is =  0.0\n",
            "Reached Leaf Node\n",
            "Level  52\n",
            "Count of  0.0  =  17\n",
            "Count of  1.0  =  24\n",
            "Current entropy is =  0.9788698505067785\n",
            "Spliting on feature  petal_width  with gain ratio  466.81907539463356\n",
            "Level  53\n",
            "Count of  1.0  =  2\n",
            "Current entropy is =  0.0\n",
            "Reached Leaf Node\n",
            "Level  53\n",
            "Count of  0.0  =  17\n",
            "Count of  1.0  =  22\n",
            "Current entropy is =  0.9881108365218301\n",
            "Spliting on feature  petal_width  with gain ratio  746.9609067118135\n",
            "Level  54\n",
            "Count of  1.0  =  1\n",
            "Current entropy is =  0.0\n",
            "Reached Leaf Node\n",
            "Level  54\n",
            "Count of  0.0  =  17\n",
            "Count of  1.0  =  21\n",
            "Current entropy is =  0.9919924034538556\n",
            "Spliting on feature  petal_length  with gain ratio  715.5363138220484\n",
            "Level  55\n",
            "Count of  1.0  =  1\n",
            "Current entropy is =  0.0\n",
            "Reached Leaf Node\n",
            "Level  55\n",
            "Count of  0.0  =  17\n",
            "Count of  1.0  =  20\n",
            "Current entropy is =  0.9952525494396791\n",
            "Spliting on feature  petal_length  with gain ratio  684.1005839919533\n",
            "Level  56\n",
            "Count of  1.0  =  1\n",
            "Current entropy is =  0.0\n",
            "Reached Leaf Node\n",
            "Level  56\n",
            "Count of  0.0  =  17\n",
            "Count of  1.0  =  19\n",
            "Current entropy is =  0.9977724720899821\n",
            "Spliting on feature  petal_length  with gain ratio  272.7427127721933\n",
            "Level  57\n",
            "Count of  1.0  =  3\n",
            "Current entropy is =  0.0\n",
            "Reached Leaf Node\n",
            "Level  57\n",
            "Count of  0.0  =  17\n",
            "Count of  1.0  =  16\n",
            "Current entropy is =  0.9993375041688847\n",
            "Spliting on feature  petal_length  with gain ratio  231.39123030183774\n",
            "Level  58\n",
            "Count of  1.0  =  3\n",
            "Current entropy is =  0.0\n",
            "Reached Leaf Node\n",
            "Level  58\n",
            "Count of  0.0  =  17\n",
            "Count of  1.0  =  13\n",
            "Current entropy is =  0.9871377743721863\n",
            "Spliting on feature  sepal_length  with gain ratio  263.7209323779444\n",
            "Level  59\n",
            "Count of  1.0  =  2\n",
            "Current entropy is =  0.0\n",
            "Reached Leaf Node\n",
            "Level  59\n",
            "Count of  0.0  =  17\n",
            "Count of  1.0  =  11\n",
            "Current entropy is =  0.9666186325481028\n",
            "Spliting on feature  sepal_length  with gain ratio  398.15691834374866\n",
            "Level  60\n",
            "Count of  1.0  =  1\n",
            "Current entropy is =  0.0\n",
            "Reached Leaf Node\n",
            "Level  60\n",
            "Count of  0.0  =  17\n",
            "Count of  1.0  =  10\n",
            "Current entropy is =  0.9509560484549725\n",
            "Spliting on feature  sepal_width  with gain ratio  109.65752931735017\n",
            "Level  61\n",
            "Count of  0.0  =  5\n",
            "Current entropy is =  0.0\n",
            "Reached Leaf Node\n",
            "Level  61\n",
            "Count of  0.0  =  12\n",
            "Count of  1.0  =  10\n",
            "Current entropy is =  0.9940302114769565\n",
            "Spliting on feature  petal_length  with gain ratio  154.29151979172258\n",
            "Level  62\n",
            "Count of  1.0  =  2\n",
            "Current entropy is =  0.0\n",
            "Reached Leaf Node\n",
            "Level  62\n",
            "Count of  0.0  =  12\n",
            "Count of  1.0  =  8\n",
            "Current entropy is =  0.9709505944546686\n",
            "Spliting on feature  petal_width  with gain ratio  220.5038903451973\n",
            "Level  63\n",
            "Count of  1.0  =  1\n",
            "Current entropy is =  0.0\n",
            "Reached Leaf Node\n",
            "Level  63\n",
            "Count of  0.0  =  12\n",
            "Count of  1.0  =  7\n",
            "Current entropy is =  0.9494520153879484\n",
            "Spliting on feature  petal_length  with gain ratio  195.18876360989165\n",
            "Level  64\n",
            "Count of  1.0  =  1\n",
            "Current entropy is =  0.0\n",
            "Reached Leaf Node\n",
            "Level  64\n",
            "Count of  0.0  =  12\n",
            "Count of  1.0  =  6\n",
            "Current entropy is =  0.9182958340544896\n",
            "Spliting on feature  petal_length  with gain ratio  169.30306110313356\n",
            "Level  65\n",
            "Count of  1.0  =  1\n",
            "Current entropy is =  0.0\n",
            "Reached Leaf Node\n",
            "Level  65\n",
            "Count of  0.0  =  12\n",
            "Count of  1.0  =  5\n",
            "Current entropy is =  0.8739810481273578\n",
            "Spliting on feature  sepal_width  with gain ratio  56.425952898300864\n",
            "Level  66\n",
            "Count of  0.0  =  4\n",
            "Current entropy is =  0.0\n",
            "Reached Leaf Node\n",
            "Level  66\n",
            "Count of  0.0  =  8\n",
            "Count of  1.0  =  5\n",
            "Current entropy is =  0.961236604722876\n",
            "Spliting on feature  petal_width  with gain ratio  101.72515371407023\n",
            "Level  67\n",
            "Count of  1.0  =  1\n",
            "Current entropy is =  0.0\n",
            "Reached Leaf Node\n",
            "Level  67\n",
            "Count of  0.0  =  8\n",
            "Count of  1.0  =  4\n",
            "Current entropy is =  0.9182958340544896\n",
            "Spliting on feature  petal_length  with gain ratio  82.01854998441854\n",
            "Level  68\n",
            "Count of  1.0  =  1\n",
            "Current entropy is =  0.0\n",
            "Reached Leaf Node\n",
            "Level  68\n",
            "Count of  0.0  =  8\n",
            "Count of  1.0  =  3\n",
            "Current entropy is =  0.8453509366224365\n",
            "Spliting on feature  petal_length  with gain ratio  60.95633879769478\n",
            "Level  69\n",
            "Count of  1.0  =  1\n",
            "Current entropy is =  0.0\n",
            "Reached Leaf Node\n",
            "Level  69\n",
            "Count of  0.0  =  8\n",
            "Count of  1.0  =  2\n",
            "Current entropy is =  0.7219280948873623\n",
            "Spliting on feature  sepal_width  with gain ratio  16.155204693246237\n",
            "Level  70\n",
            "Count of  0.0  =  6\n",
            "Current entropy is =  0.0\n",
            "Reached Leaf Node\n",
            "Level  70\n",
            "Count of  0.0  =  2\n",
            "Count of  1.0  =  2\n",
            "Current entropy is =  1.0\n",
            "Spliting on feature  sepal_length  with gain ratio  15.375080272125093\n",
            "Level  71\n",
            "Count of  1.0  =  1\n",
            "Current entropy is =  0.0\n",
            "Reached Leaf Node\n",
            "Level  71\n",
            "Count of  0.0  =  2\n",
            "Count of  1.0  =  1\n",
            "Current entropy is =  0.9182958340544896\n",
            "Spliting on feature  sepal_width  with gain ratio  10.556912664555458\n",
            "Level  72\n",
            "Count of  0.0  =  1\n",
            "Current entropy is =  0.0\n",
            "Reached Leaf Node\n",
            "Level  72\n",
            "Count of  0.0  =  1\n",
            "Count of  1.0  =  1\n",
            "Current entropy is =  1.0\n",
            "Spliting on feature  petal_width  with gain ratio  3.321928094887363\n",
            "Level  73\n",
            "Count of  1.0  =  1\n",
            "Current entropy is =  0.0\n",
            "Reached Leaf Node\n",
            "Level  73\n",
            "Count of  0.0  =  1\n",
            "Current entropy is =  0.0\n",
            "Reached Leaf Node\n"
          ],
          "name": "stdout"
        }
      ]
    },
    {
      "cell_type": "markdown",
      "metadata": {
        "trusted": true,
        "collapsed": true,
        "_uuid": "632ef6f487393600296dd8deef3969e8c7befd8c",
        "id": "41CudybUjprJ",
        "colab_type": "text"
      },
      "source": [
        ""
      ]
    },
    {
      "cell_type": "code",
      "metadata": {
        "trusted": true,
        "_uuid": "481790196fde7291c940e388b03e4253d8c517e8",
        "id": "aZd9qkXmjprK",
        "colab_type": "code",
        "colab": {}
      },
      "source": [
        ""
      ],
      "execution_count": 0,
      "outputs": []
    },
    {
      "cell_type": "code",
      "metadata": {
        "trusted": true,
        "_uuid": "c47c11f4c448e122f5703dd79c7a0b8fb5fb2e55",
        "id": "wty5nqU9jprN",
        "colab_type": "code",
        "colab": {}
      },
      "source": [
        ""
      ],
      "execution_count": 0,
      "outputs": []
    }
  ]
}